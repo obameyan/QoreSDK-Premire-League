{
 "cells": [
  {
   "cell_type": "code",
   "execution_count": 46,
   "metadata": {},
   "outputs": [],
   "source": [
    "import pandas as pd\n",
    "import numpy as np\n",
    "from sklearn.metrics import classification_report\n",
    "import random"
   ]
  },
  {
   "cell_type": "code",
   "execution_count": 47,
   "metadata": {},
   "outputs": [
    {
     "output_type": "stream",
     "name": "stdout",
     "text": "FTR  HTGS  ATGS  HTGC  ATGC  HTP  ATP  HM1  HM2  HM3  ...  ATWinStreak5  \\\n0    0   0.0   0.0   0.0   0.0  0.0  0.0    2    2    2  ...             0   \n1    0   0.0   0.0   0.0   0.0  0.0  0.0    2    2    2  ...             0   \n2    1   0.0   0.0   0.0   0.0  0.0  0.0    2    2    2  ...             0   \n3    0   0.0   0.0   0.0   0.0  0.0  0.0    2    2    2  ...             0   \n4    1   0.0   0.0   0.0   0.0  0.0  0.0    2    2    2  ...             0   \n\n   ATLossStreak3  ATLossStreak5  HTGD  ATGD  DiffPts  DiffFormPts  DiffLP  \\\n0              0              0   0.0   0.0      0.0          0.0   -11.0   \n1              0              0   0.0   0.0      0.0          0.0     8.0   \n2              0              0   0.0   0.0      0.0          0.0     6.0   \n3              0              0   0.0   0.0      0.0          0.0    -9.0   \n4              0              0   0.0   0.0      0.0          0.0    -8.0   \n\n   final1  final2  \n0     1.0     0.0  \n1     1.0     0.0  \n2     0.0     1.0  \n3     1.0     0.0  \n4     0.0     1.0  \n\n[5 rows x 30 columns]\n(2620, 30)\n"
    }
   ],
   "source": [
    "data=pd.read_csv(\"./data/PremierLeague/allAtt_onehot_large_train.csv\")\n",
    "dataT=pd.read_csv(\"./data/PremierLeague/allAtt_onehot_large_test.csv\")\n",
    "print(data.head())\n",
    "print(data.shape)"
   ]
  },
  {
   "cell_type": "code",
   "execution_count": 48,
   "metadata": {},
   "outputs": [],
   "source": [
    "#data = data[['HTGS','ATGS','HTP','ATP','DiffLP','final1']]\n",
    "#dataT = dataT[['HTGS','ATGS','HTP','ATP','DiffLP','final1']]\n",
    "data = data[['HTGS','ATGS','HTP','ATP','HM1','AM1', 'DiffLP','final1']]\n",
    "dataT = dataT[['HTGS','ATGS','HTP','ATP','HM1','AM1','DiffLP','final1']]"
   ]
  },
  {
   "cell_type": "code",
   "execution_count": 49,
   "metadata": {},
   "outputs": [
    {
     "output_type": "execute_result",
     "data": {
      "text/plain": "   HTGS  ATGS  HTP  ATP  HM1  AM1  DiffLP  final1\n0   0.0   0.0  0.0  0.0    2    2   -11.0     1.0\n1   0.0   0.0  0.0  0.0    2    2     8.0     1.0\n2   0.0   0.0  0.0  0.0    2    2     6.0     0.0\n3   0.0   0.0  0.0  0.0    2    2    -9.0     1.0\n4   0.0   0.0  0.0  0.0    2    2    -8.0     0.0",
      "text/html": "<div>\n<style scoped>\n    .dataframe tbody tr th:only-of-type {\n        vertical-align: middle;\n    }\n\n    .dataframe tbody tr th {\n        vertical-align: top;\n    }\n\n    .dataframe thead th {\n        text-align: right;\n    }\n</style>\n<table border=\"1\" class=\"dataframe\">\n  <thead>\n    <tr style=\"text-align: right;\">\n      <th></th>\n      <th>HTGS</th>\n      <th>ATGS</th>\n      <th>HTP</th>\n      <th>ATP</th>\n      <th>HM1</th>\n      <th>AM1</th>\n      <th>DiffLP</th>\n      <th>final1</th>\n    </tr>\n  </thead>\n  <tbody>\n    <tr>\n      <th>0</th>\n      <td>0.0</td>\n      <td>0.0</td>\n      <td>0.0</td>\n      <td>0.0</td>\n      <td>2</td>\n      <td>2</td>\n      <td>-11.0</td>\n      <td>1.0</td>\n    </tr>\n    <tr>\n      <th>1</th>\n      <td>0.0</td>\n      <td>0.0</td>\n      <td>0.0</td>\n      <td>0.0</td>\n      <td>2</td>\n      <td>2</td>\n      <td>8.0</td>\n      <td>1.0</td>\n    </tr>\n    <tr>\n      <th>2</th>\n      <td>0.0</td>\n      <td>0.0</td>\n      <td>0.0</td>\n      <td>0.0</td>\n      <td>2</td>\n      <td>2</td>\n      <td>6.0</td>\n      <td>0.0</td>\n    </tr>\n    <tr>\n      <th>3</th>\n      <td>0.0</td>\n      <td>0.0</td>\n      <td>0.0</td>\n      <td>0.0</td>\n      <td>2</td>\n      <td>2</td>\n      <td>-9.0</td>\n      <td>1.0</td>\n    </tr>\n    <tr>\n      <th>4</th>\n      <td>0.0</td>\n      <td>0.0</td>\n      <td>0.0</td>\n      <td>0.0</td>\n      <td>2</td>\n      <td>2</td>\n      <td>-8.0</td>\n      <td>0.0</td>\n    </tr>\n  </tbody>\n</table>\n</div>"
     },
     "metadata": {},
     "execution_count": 49
    }
   ],
   "source": [
    "data.head()"
   ]
  },
  {
   "cell_type": "code",
   "execution_count": 50,
   "metadata": {},
   "outputs": [],
   "source": [
    "data = data.sort_values('HTGS')\n",
    "dataT = dataT.sort_values('HTGS')"
   ]
  },
  {
   "cell_type": "code",
   "execution_count": 51,
   "metadata": {},
   "outputs": [],
   "source": [
    "x = np.array(data)\n",
    "x_t = np.array(dataT)"
   ]
  },
  {
   "cell_type": "code",
   "execution_count": 52,
   "metadata": {},
   "outputs": [
    {
     "output_type": "stream",
     "name": "stdout",
     "text": "(2620, 8)\n(800, 8)\n"
    }
   ],
   "source": [
    "print(x.shape)\n",
    "print(x_t.shape)"
   ]
  },
  {
   "cell_type": "code",
   "execution_count": 53,
   "metadata": {},
   "outputs": [],
   "source": [
    "x_train = np.array(x[:, :7])\n",
    "x_test = np.array(x_t[:, :7])\n",
    "y_train = np.array(x[:, 7])\n",
    "y_test = np.array(x_t[:, 7])"
   ]
  },
  {
   "cell_type": "code",
   "execution_count": 54,
   "metadata": {},
   "outputs": [],
   "source": [
    "from qore_sdk.client import WebQoreClient\n",
    "from qore_sdk.utils import sliding_window\n",
    "\n",
    "username = '*****'\n",
    "password = '*****'\n",
    "endpoint = '*****'\n",
    "\n",
    "client = WebQoreClient(username, password, endpoint=endpoint)"
   ]
  },
  {
   "cell_type": "code",
   "execution_count": 55,
   "metadata": {},
   "outputs": [],
   "source": [
    "X, y= sliding_window(x_train, 10, 4, axis=0, y=y_train,y_def='mode', y_axis=0)"
   ]
  },
  {
   "cell_type": "code",
   "execution_count": 56,
   "metadata": {},
   "outputs": [
    {
     "output_type": "stream",
     "name": "stdout",
     "text": "(653, 10, 7)\n(653, 1)\n"
    }
   ],
   "source": [
    "print(X.shape)\n",
    "print(y.shape)"
   ]
  },
  {
   "cell_type": "code",
   "execution_count": 57,
   "metadata": {},
   "outputs": [
    {
     "output_type": "execute_result",
     "data": {
      "text/plain": "{'res': 'ok', 'train_time': 0.8582723140716553}"
     },
     "metadata": {},
     "execution_count": 57
    }
   ],
   "source": [
    "client.classifier_train(X, y)"
   ]
  },
  {
   "cell_type": "code",
   "execution_count": 58,
   "metadata": {},
   "outputs": [],
   "source": [
    "X_test, y_test = sliding_window(x_test, 10, 5, axis=0, y=y_test,y_def='mode', y_axis=0)"
   ]
  },
  {
   "cell_type": "code",
   "execution_count": 59,
   "metadata": {},
   "outputs": [
    {
     "output_type": "stream",
     "name": "stdout",
     "text": "(159, 10, 7)\n(159, 1)\n"
    }
   ],
   "source": [
    "print(X_test.shape)\n",
    "print(y_test.shape)"
   ]
  },
  {
   "cell_type": "code",
   "execution_count": 60,
   "metadata": {},
   "outputs": [
    {
     "output_type": "stream",
     "name": "stdout",
     "text": "precision    recall  f1-score   support\n\n         0.0       0.73      0.90      0.81       104\n         1.0       0.68      0.38      0.49        55\n\n    accuracy                           0.72       159\n   macro avg       0.71      0.64      0.65       159\nweighted avg       0.71      0.72      0.70       159\n\n"
    }
   ],
   "source": [
    "res = client.classifier_predict(X_test)\n",
    "report = classification_report(y_test, res['Y'])\n",
    "print(report)"
   ]
  },
  {
   "cell_type": "code",
   "execution_count": null,
   "metadata": {},
   "outputs": [],
   "source": []
  }
 ],
 "metadata": {
  "language_info": {
   "codemirror_mode": {
    "name": "ipython",
    "version": 3
   },
   "file_extension": ".py",
   "mimetype": "text/x-python",
   "name": "python",
   "nbconvert_exporter": "python",
   "pygments_lexer": "ipython3",
   "version": "3.7.6-final"
  },
  "orig_nbformat": 2,
  "kernelspec": {
   "name": "python37664bitpy37condae1c09d002d174375bdfe176cbb07a596",
   "display_name": "Python 3.7.6 64-bit ('py37': conda)"
  }
 },
 "nbformat": 4,
 "nbformat_minor": 2
}