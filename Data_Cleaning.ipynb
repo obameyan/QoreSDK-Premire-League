{
 "cells": [
  {
   "cell_type": "code",
   "execution_count": 1,
   "metadata": {},
   "outputs": [],
   "source": [
    "import numpy as np\n",
    "import pandas as pd\n",
    "from datetime import datetime as dt\n",
    "import itertools"
   ]
  },
  {
   "cell_type": "markdown",
   "metadata": {},
   "source": [
    "まずはデータの読み込み（プレミアリーグのデータセット）"
   ]
  },
  {
   "cell_type": "code",
   "execution_count": 2,
   "metadata": {},
   "outputs": [],
   "source": [
    "raw_data_1 = pd.read_csv('./data/PremierLeague/2019-20.csv')\n",
    "raw_data_2 = pd.read_csv('./data/PremierLeague/2018-19.csv')\n",
    "raw_data_3 = pd.read_csv('./data/PremierLeague/2017-18.csv')\n",
    "raw_data_4 = pd.read_csv('./data/PremierLeague/2016-17.csv')\n",
    "raw_data_5 = pd.read_csv('./data/PremierLeague/2015-16.csv')\n",
    "raw_data_6 = pd.read_csv('./data/PremierLeague/2014-15.csv')\n",
    "raw_data_7 = pd.read_csv('./data/PremierLeague/2013-14.csv')\n",
    "raw_data_8 = pd.read_csv('./data/PremierLeague/2012-13.csv')\n",
    "raw_data_9 = pd.read_csv('./data/PremierLeague/2011-12.csv')\n",
    "raw_data_10 = pd.read_csv('./data/PremierLeague/2010-11.csv')"
   ]
  },
  {
   "cell_type": "markdown",
   "metadata": {},
   "source": [
    "データの形をみる"
   ]
  },
  {
   "cell_type": "code",
   "execution_count": 3,
   "metadata": {},
   "outputs": [
    {
     "output_type": "stream",
     "name": "stdout",
     "text": "106\n62\n65\n65\n65\n68\n68\n74\n71\n71\n"
    }
   ],
   "source": [
    "print(len(raw_data_1.columns))\n",
    "print(len(raw_data_2.columns))\n",
    "print(len(raw_data_3.columns))\n",
    "print(len(raw_data_4.columns))\n",
    "print(len(raw_data_5.columns))\n",
    "print(len(raw_data_6.columns))\n",
    "print(len(raw_data_7.columns))\n",
    "print(len(raw_data_8.columns))\n",
    "print(len(raw_data_9.columns))\n",
    "print(len(raw_data_10.columns))"
   ]
  },
  {
   "cell_type": "code",
   "execution_count": 4,
   "metadata": {},
   "outputs": [
    {
     "output_type": "stream",
     "name": "stdout",
     "text": "65\n"
    }
   ],
   "source": [
    "print(sum(raw_data_3.columns==raw_data_4.columns))"
   ]
  },
  {
   "cell_type": "code",
   "execution_count": 5,
   "metadata": {},
   "outputs": [
    {
     "output_type": "stream",
     "name": "stdout",
     "text": "(288, 106)\n(380, 62)\n(380, 65)\n(380, 65)\n(380, 65)\n(381, 68)\n(380, 68)\n(380, 74)\n(380, 71)\n(380, 71)\n"
    }
   ],
   "source": [
    "print(raw_data_1.shape)\n",
    "print(raw_data_2.shape)\n",
    "print(raw_data_3.shape)\n",
    "print(raw_data_4.shape)\n",
    "print(raw_data_5.shape)\n",
    "print(raw_data_6.shape)\n",
    "print(raw_data_7.shape)\n",
    "print(raw_data_8.shape)\n",
    "print(raw_data_9.shape)\n",
    "print(raw_data_10.shape)"
   ]
  },
  {
   "cell_type": "code",
   "execution_count": 6,
   "metadata": {},
   "outputs": [],
   "source": [
    "raw_data_6 = raw_data_6.iloc[:-1]"
   ]
  },
  {
   "cell_type": "code",
   "execution_count": 7,
   "metadata": {},
   "outputs": [
    {
     "output_type": "execute_result",
     "data": {
      "text/plain": "(380, 68)"
     },
     "metadata": {},
     "execution_count": 7
    }
   ],
   "source": [
    "raw_data_6.shape"
   ]
  },
  {
   "cell_type": "markdown",
   "metadata": {},
   "source": [
    "特徴量の抽出する。ここでは日付、ホームチーム、アウェイチーム、ホームチームのゴール数、アウェイチームのゴール数、試合結果とした。"
   ]
  },
  {
   "cell_type": "code",
   "execution_count": 8,
   "metadata": {},
   "outputs": [],
   "source": [
    "columns_req = ['Date','HomeTeam','AwayTeam','FTHG','FTAG','FTR']\n",
    "#playing_statistics_1=raw_data_1[columns_req]\n",
    "playing_statistics_2=raw_data_2[columns_req]\n",
    "playing_statistics_3=raw_data_3[columns_req]\n",
    "playing_statistics_4=raw_data_4[columns_req]\n",
    "playing_statistics_5=raw_data_5[columns_req]\n",
    "playing_statistics_6=raw_data_6[columns_req]\n",
    "playing_statistics_7=raw_data_7[columns_req]\n",
    "playing_statistics_8=raw_data_8[columns_req]\n",
    "playing_statistics_9=raw_data_9[columns_req]\n",
    "playing_statistics_10=raw_data_10[columns_req]"
   ]
  },
  {
   "cell_type": "code",
   "execution_count": 9,
   "metadata": {},
   "outputs": [
    {
     "output_type": "execute_result",
     "data": {
      "text/plain": "         Date      HomeTeam        AwayTeam  FTHG  FTAG FTR\n0  10/08/2018    Man United       Leicester     2     1   H\n1  11/08/2018   Bournemouth         Cardiff     2     0   H\n2  11/08/2018        Fulham  Crystal Palace     0     2   A\n3  11/08/2018  Huddersfield         Chelsea     0     3   A\n4  11/08/2018     Newcastle       Tottenham     1     2   A",
      "text/html": "<div>\n<style scoped>\n    .dataframe tbody tr th:only-of-type {\n        vertical-align: middle;\n    }\n\n    .dataframe tbody tr th {\n        vertical-align: top;\n    }\n\n    .dataframe thead th {\n        text-align: right;\n    }\n</style>\n<table border=\"1\" class=\"dataframe\">\n  <thead>\n    <tr style=\"text-align: right;\">\n      <th></th>\n      <th>Date</th>\n      <th>HomeTeam</th>\n      <th>AwayTeam</th>\n      <th>FTHG</th>\n      <th>FTAG</th>\n      <th>FTR</th>\n    </tr>\n  </thead>\n  <tbody>\n    <tr>\n      <th>0</th>\n      <td>10/08/2018</td>\n      <td>Man United</td>\n      <td>Leicester</td>\n      <td>2</td>\n      <td>1</td>\n      <td>H</td>\n    </tr>\n    <tr>\n      <th>1</th>\n      <td>11/08/2018</td>\n      <td>Bournemouth</td>\n      <td>Cardiff</td>\n      <td>2</td>\n      <td>0</td>\n      <td>H</td>\n    </tr>\n    <tr>\n      <th>2</th>\n      <td>11/08/2018</td>\n      <td>Fulham</td>\n      <td>Crystal Palace</td>\n      <td>0</td>\n      <td>2</td>\n      <td>A</td>\n    </tr>\n    <tr>\n      <th>3</th>\n      <td>11/08/2018</td>\n      <td>Huddersfield</td>\n      <td>Chelsea</td>\n      <td>0</td>\n      <td>3</td>\n      <td>A</td>\n    </tr>\n    <tr>\n      <th>4</th>\n      <td>11/08/2018</td>\n      <td>Newcastle</td>\n      <td>Tottenham</td>\n      <td>1</td>\n      <td>2</td>\n      <td>A</td>\n    </tr>\n  </tbody>\n</table>\n</div>"
     },
     "metadata": {},
     "execution_count": 9
    }
   ],
   "source": [
    "playing_statistics_2.head()"
   ]
  },
  {
   "cell_type": "code",
   "execution_count": 10,
   "metadata": {},
   "outputs": [
    {
     "output_type": "stream",
     "name": "stdout",
     "text": "380\n"
    }
   ],
   "source": [
    "print(len(playing_statistics_2))"
   ]
  },
  {
   "cell_type": "code",
   "execution_count": 11,
   "metadata": {},
   "outputs": [],
   "source": [
    "def get_goals_scored(playing_stat):\n",
    "    #print(\"get_goals_scored\")\n",
    "    # チーム名で辞書型を設定する\n",
    "    teams = {}\n",
    "    # どんなチームがあるを列挙する\n",
    "    for i in playing_stat.groupby('HomeTeam').mean().T.columns: \n",
    "        #print(\"check {} \\n\".format(i))\n",
    "        teams[i] = []\n",
    "\n",
    "    for i in range(len(playing_stat)):\n",
    "        HTGS = playing_stat.iloc[i]['FTHG'] #ホームチームのゴール数\n",
    "        ATGS = playing_stat.iloc[i]['FTAG'] #アウェイチームのゴール数\n",
    "        teams[playing_stat.iloc[i].HomeTeam].append(HTGS)\n",
    "        teams[playing_stat.iloc[i].HomeTeam].append(ATGS)\n",
    "    \n",
    "    \"\"\"\n",
    "    for i in teams.keys():\n",
    "        print(\"check\",len(teams[i]))\n",
    "        print(teams[i])\n",
    "        if len(teams[i])==31:\n",
    "            teams[i]=teams[i][:-1]\n",
    "            print(\"check\",len(teams[i]))\n",
    "    print(\"teams\",len(teams[\"Arsenal\"]))\n",
    "    #print(teams)\n",
    "    \"\"\"\n",
    "\n",
    "    GoalsScored = pd.DataFrame(data=teams, index = [i for i in range(1,39)]).T\n",
    "    GoalsScored[0] = 0\n",
    "\n",
    "    # ゴール数を各チームごとに記録する\n",
    "    for i in range(2,39):\n",
    "        GoalsScored[i] = GoalsScored[i] + GoalsScored[i-1]\n",
    "    return GoalsScored"
   ]
  },
  {
   "cell_type": "code",
   "execution_count": 12,
   "metadata": {},
   "outputs": [
    {
     "output_type": "stream",
     "name": "stdout",
     "text": "1   2   3   4   5   6   7   8   9   10  ...  30  31  32  33  \\\nArsenal          0   2   5   6   8   8  10  10  13  14  ...  47  49  49  51   \nBournemouth      2   2   4   6  10  12  14  15  15  15  ...  45  47  49  50   \nBrighton         3   5   7   9  10  12  13  13  14  14  ...  33  33  38  38   \nBurnley          1   4   4   6  10  10  11  12  12  16  ...  47  49  49  51   \nCardiff          0   0   2   5   5  10  11  13  17  19  ...  47  49  49  50   \nChelsea          3   5   7   7  11  12  13  14  16  18  ...  39  42  42  44   \nCrystal Palace   0   2   2   4   4   4   4   5   7   9  ...  28  30  30  31   \nEverton          2   3   4   5   6   9  12  12  14  14  ...  42  44  44  45   \nFulham           0   2   6   8   9  10  11  16  16  19  ...  49  49  51  53   \nHuddersfield     0   3   3   3   3   4   4   6   6   7  ...  29  29  31  32   \nLeicester        2   2   3   5   8   9  10  12  13  14  ...  38  40  40  40   \nLiverpool        4   4   5   5   8   8   8   8  12  13  ...  53  55  56  58   \nMan City         6   7   9  10  13  13  15  15  20  20  ...  61  64  65  67   \nMan United       2   3   3   6   7   8  11  13  15  16  ...  49  51  52  52   \nNewcastle        1   3   4   6   7   9   9  11  11  12  ...  34  37  39  39   \nSouthampton      0   0   1   3   5   7   7  10  10  10  ...  41  42  45  48   \nTottenham        3   4   5   7   8   8   8   9  12  13  ...  40  44  44  45   \nWatford          2   2   4   5   7   8   9  11  11  15  ...  43  43  44  45   \nWest Ham         1   3   3   4   4   4   7   8   8   9  ...  43  47  50  50   \nWolves           2   4   5   6   7   7   9   9   9  11  ...  41  43  44  44   \n\n                34  35  36  37  38  0   \nArsenal         51  53  56  57  58   0  \nBournemouth     53  53  54  55  55   0  \nBrighton        40  41  42  43  47   0  \nBurnley         51  51  52  53  56   0  \nCardiff         52  52  54  56  59   0  \nChelsea         44  46  48  51  51   0  \nCrystal Palace  34  34  34  39  42   0  \nEverton         45  49  49  51  51   0  \nFulham          53  54  54  54  58   0  \nHuddersfield    36  37  39  40  41   0  \nLeicester       41  44  44  44  44   0  \nLiverpool       58  63  63  65  65   0  \nMan City        67  68  68  69  69   0  \nMan United      54  55  56  56  58   0  \nNewcastle       40  43  44  46  49   0  \nSouthampton     49  52  55  56  57   0  \nTottenham       45  45  46  48  50   0  \nWatford         46  47  49  50  54   0  \nWest Ham        52  54  56  59  59   0  \nWolves          44  47  48  49  49   0  \n\n[20 rows x 39 columns]\n"
    }
   ],
   "source": [
    "print(get_goals_scored(playing_statistics_2))"
   ]
  },
  {
   "cell_type": "code",
   "execution_count": 13,
   "metadata": {},
   "outputs": [],
   "source": [
    "def get_gss(playing_stat):\n",
    "    \"\"\"ゴール数、許したゴール数を記録\"\"\"\n",
    "    GC = get_goals_scored(playing_stat)\n",
    "    GS = get_goals_scored(playing_stat)\n",
    "   \n",
    "    j = 0\n",
    "    HTGS = [] #ホームチームゴールスコア\n",
    "    ATGS = [] #アウェイチームゴールスコア\n",
    "    HTGC = [] #ホームチームが許したゴール数\n",
    "    ATGC = [] #アウェイチームが許したゴール数\n",
    "\n",
    "    for i in range(380):\n",
    "        ht = playing_stat.iloc[i].HomeTeam\n",
    "        at = playing_stat.iloc[i].AwayTeam\n",
    "        HTGS.append(GS.loc[ht][j])\n",
    "        ATGS.append(GS.loc[at][j])\n",
    "        HTGC.append(GC.loc[ht][j])\n",
    "        ATGC.append(GC.loc[at][j])\n",
    "        \n",
    "        if ((i + 1)% 10) == 0:\n",
    "            j = j + 1\n",
    "    \n",
    "#     print(\"check line 87\")\n",
    "#     print(playing_stat.shape,len(HTGS))\n",
    "    \n",
    "    playing_stat['HTGS'] = HTGS\n",
    "    playing_stat['ATGS'] = ATGS\n",
    "    playing_stat['HTGC'] = HTGC\n",
    "    playing_stat['ATGC'] = ATGC\n",
    "    \n",
    "    return playing_stat"
   ]
  },
  {
   "cell_type": "code",
   "execution_count": 14,
   "metadata": {},
   "outputs": [],
   "source": [
    "# print(playing_statistics_1.head())\n",
    "playing_statistics_2 = get_gss(playing_statistics_2)\n",
    "playing_statistics_3 = get_gss(playing_statistics_3)\n",
    "playing_statistics_4 = get_gss(playing_statistics_4)\n",
    "playing_statistics_5 = get_gss(playing_statistics_5)\n",
    "playing_statistics_6 = get_gss(playing_statistics_6)\n",
    "playing_statistics_7 = get_gss(playing_statistics_7)\n",
    "playing_statistics_8 = get_gss(playing_statistics_8)\n",
    "playing_statistics_9 = get_gss(playing_statistics_9)\n",
    "playing_statistics_10 = get_gss(playing_statistics_10)"
   ]
  },
  {
   "cell_type": "code",
   "execution_count": 15,
   "metadata": {},
   "outputs": [
    {
     "output_type": "execute_result",
     "data": {
      "text/plain": "         Date      HomeTeam        AwayTeam  FTHG  FTAG FTR  HTGS  ATGS  HTGC  \\\n0  10/08/2018    Man United       Leicester     2     1   H     0     0     0   \n1  11/08/2018   Bournemouth         Cardiff     2     0   H     0     0     0   \n2  11/08/2018        Fulham  Crystal Palace     0     2   A     0     0     0   \n3  11/08/2018  Huddersfield         Chelsea     0     3   A     0     0     0   \n4  11/08/2018     Newcastle       Tottenham     1     2   A     0     0     0   \n\n   ATGC  \n0     0  \n1     0  \n2     0  \n3     0  \n4     0  ",
      "text/html": "<div>\n<style scoped>\n    .dataframe tbody tr th:only-of-type {\n        vertical-align: middle;\n    }\n\n    .dataframe tbody tr th {\n        vertical-align: top;\n    }\n\n    .dataframe thead th {\n        text-align: right;\n    }\n</style>\n<table border=\"1\" class=\"dataframe\">\n  <thead>\n    <tr style=\"text-align: right;\">\n      <th></th>\n      <th>Date</th>\n      <th>HomeTeam</th>\n      <th>AwayTeam</th>\n      <th>FTHG</th>\n      <th>FTAG</th>\n      <th>FTR</th>\n      <th>HTGS</th>\n      <th>ATGS</th>\n      <th>HTGC</th>\n      <th>ATGC</th>\n    </tr>\n  </thead>\n  <tbody>\n    <tr>\n      <th>0</th>\n      <td>10/08/2018</td>\n      <td>Man United</td>\n      <td>Leicester</td>\n      <td>2</td>\n      <td>1</td>\n      <td>H</td>\n      <td>0</td>\n      <td>0</td>\n      <td>0</td>\n      <td>0</td>\n    </tr>\n    <tr>\n      <th>1</th>\n      <td>11/08/2018</td>\n      <td>Bournemouth</td>\n      <td>Cardiff</td>\n      <td>2</td>\n      <td>0</td>\n      <td>H</td>\n      <td>0</td>\n      <td>0</td>\n      <td>0</td>\n      <td>0</td>\n    </tr>\n    <tr>\n      <th>2</th>\n      <td>11/08/2018</td>\n      <td>Fulham</td>\n      <td>Crystal Palace</td>\n      <td>0</td>\n      <td>2</td>\n      <td>A</td>\n      <td>0</td>\n      <td>0</td>\n      <td>0</td>\n      <td>0</td>\n    </tr>\n    <tr>\n      <th>3</th>\n      <td>11/08/2018</td>\n      <td>Huddersfield</td>\n      <td>Chelsea</td>\n      <td>0</td>\n      <td>3</td>\n      <td>A</td>\n      <td>0</td>\n      <td>0</td>\n      <td>0</td>\n      <td>0</td>\n    </tr>\n    <tr>\n      <th>4</th>\n      <td>11/08/2018</td>\n      <td>Newcastle</td>\n      <td>Tottenham</td>\n      <td>1</td>\n      <td>2</td>\n      <td>A</td>\n      <td>0</td>\n      <td>0</td>\n      <td>0</td>\n      <td>0</td>\n    </tr>\n  </tbody>\n</table>\n</div>"
     },
     "metadata": {},
     "execution_count": 15
    }
   ],
   "source": [
    "playing_statistics_2.head()"
   ]
  },
  {
   "cell_type": "code",
   "execution_count": 16,
   "metadata": {},
   "outputs": [],
   "source": [
    "def get_points(result):\n",
    "    \"\"\"結果をポイントとして返す\"\"\"\n",
    "    if result == 'W':\n",
    "        return 3\n",
    "    elif result == 'D':\n",
    "        return 1\n",
    "    else:\n",
    "        return 0"
   ]
  },
  {
   "cell_type": "code",
   "execution_count": 17,
   "metadata": {},
   "outputs": [],
   "source": [
    "def get_cuml_points(matchres):\n",
    "    matchres_points = matchres.applymap(get_points)\n",
    "    for i in range(2,31):\n",
    "        matchres_points[i] = matchres_points[i] + matchres_points[i-1]\n",
    "        \n",
    "    matchres_points.insert(column =0, loc = 0, value = [0*i for i in range(20)])\n",
    "    return matchres_points"
   ]
  },
  {
   "cell_type": "code",
   "execution_count": 18,
   "metadata": {},
   "outputs": [],
   "source": [
    "def get_matchres(playing_stat):\n",
    "    #print(\"here\")\n",
    "    teams = {}\n",
    "    for i in playing_stat.groupby('HomeTeam').mean().T.columns:\n",
    "        teams[i] = []\n",
    "    \n",
    "    #勝ち負け引き分け\n",
    "    for i in range(len(playing_stat)):\n",
    "        if playing_stat.iloc[i].FTR == 'H':\n",
    "            teams[playing_stat.iloc[i].HomeTeam].append('W')\n",
    "            teams[playing_stat.iloc[i].AwayTeam].append('L')\n",
    "        elif playing_stat.iloc[i].FTR == 'A':\n",
    "            teams[playing_stat.iloc[i].AwayTeam].append('W')\n",
    "            teams[playing_stat.iloc[i].HomeTeam].append('L')\n",
    "        else:\n",
    "            teams[playing_stat.iloc[i].AwayTeam].append('D')\n",
    "            teams[playing_stat.iloc[i].HomeTeam].append('D')\n",
    "    \n",
    "#     for i in teams.keys():\n",
    "#         print(\"check\",len(teams[i]))\n",
    "#         print(teams[i])\n",
    "#         if len(teams[i])>=31:\n",
    "#             teams[i]=teams[i][:30]\n",
    "#             print(\"check\",len(teams[i]))\n",
    "#     print(\"teams\",len(teams[\"Arsenal\"]))\n",
    "#     print(teams)\n",
    "            \n",
    "    return pd.DataFrame(data=teams, index = [i for i in range(1,39)]).T"
   ]
  },
  {
   "cell_type": "code",
   "execution_count": 19,
   "metadata": {},
   "outputs": [],
   "source": [
    "def get_agg_points(playing_stat):\n",
    "    matchres = get_matchres(playing_stat)\n",
    "    cum_pts = get_cuml_points(matchres)\n",
    "    HTP = [] #ホームチームポイント\n",
    "    ATP = [] #アウェイチームポイント\n",
    "    j = 0\n",
    "    for i in range(380):\n",
    "        ht = playing_stat.iloc[i].HomeTeam\n",
    "        at = playing_stat.iloc[i].AwayTeam\n",
    "        HTP.append(cum_pts.loc[ht][j])\n",
    "        ATP.append(cum_pts.loc[at][j])\n",
    "\n",
    "        if ((i + 1)% 10) == 0:\n",
    "            j = j + 1\n",
    "            \n",
    "    playing_stat['HTP'] = HTP\n",
    "    playing_stat['ATP'] = ATP\n",
    "    return playing_stat"
   ]
  },
  {
   "cell_type": "code",
   "execution_count": 20,
   "metadata": {},
   "outputs": [],
   "source": [
    "# playing_statistics_1 = get_agg_points(playing_statistics_1)\n",
    "playing_statistics_2 = get_agg_points(playing_statistics_2)\n",
    "playing_statistics_3 = get_agg_points(playing_statistics_4)\n",
    "playing_statistics_4 = get_agg_points(playing_statistics_5)\n",
    "playing_statistics_5 = get_agg_points(playing_statistics_6)\n",
    "playing_statistics_7 = get_agg_points(playing_statistics_7)\n",
    "playing_statistics_8 = get_agg_points(playing_statistics_8)\n",
    "playing_statistics_9 = get_agg_points(playing_statistics_9)\n",
    "playing_statistics_10 = get_agg_points(playing_statistics_10)"
   ]
  },
  {
   "cell_type": "code",
   "execution_count": 21,
   "metadata": {},
   "outputs": [
    {
     "output_type": "stream",
     "name": "stdout",
     "text": "Date      HomeTeam        AwayTeam  FTHG  FTAG FTR  HTGS  ATGS  HTGC  \\\n0  10/08/2018    Man United       Leicester     2     1   H     0     0     0   \n1  11/08/2018   Bournemouth         Cardiff     2     0   H     0     0     0   \n2  11/08/2018        Fulham  Crystal Palace     0     2   A     0     0     0   \n3  11/08/2018  Huddersfield         Chelsea     0     3   A     0     0     0   \n4  11/08/2018     Newcastle       Tottenham     1     2   A     0     0     0   \n\n   ATGC  HTP  ATP  \n0     0    0    0  \n1     0    0    0  \n2     0    0    0  \n3     0    0    0  \n4     0    0    0  \n"
    }
   ],
   "source": [
    "print(playing_statistics_2.head())"
   ]
  },
  {
   "cell_type": "code",
   "execution_count": 22,
   "metadata": {},
   "outputs": [
    {
     "output_type": "execute_result",
     "data": {
      "text/plain": "           Date      HomeTeam        AwayTeam  FTHG  FTAG FTR  HTGS  ATGS  \\\n0    10/08/2018    Man United       Leicester     2     1   H     0     0   \n1    11/08/2018   Bournemouth         Cardiff     2     0   H     0     0   \n2    11/08/2018        Fulham  Crystal Palace     0     2   A     0     0   \n3    11/08/2018  Huddersfield         Chelsea     0     3   A     0     0   \n4    11/08/2018     Newcastle       Tottenham     1     2   A     0     0   \n..          ...           ...             ...   ...   ...  ..   ...   ...   \n375  12/05/2019     Liverpool          Wolves     2     0   H    65    49   \n376  12/05/2019    Man United         Cardiff     0     2   A    56    56   \n377  12/05/2019   Southampton    Huddersfield     1     1   D    56    40   \n378  12/05/2019     Tottenham         Everton     2     2   D    48    51   \n379  12/05/2019       Watford        West Ham     1     4   A    50    59   \n\n     HTGC  ATGC  HTP  ATP  \n0       0     0    0    0  \n1       0     0    0    0  \n2       0     0    0    0  \n3       0     0    0    0  \n4       0     0    0    0  \n..    ...   ...  ...  ...  \n375    65    49    3    3  \n376    56    56    1    0  \n377    56    40    0    1  \n378    48    51    0    3  \n379    50    59    0    3  \n\n[380 rows x 12 columns]",
      "text/html": "<div>\n<style scoped>\n    .dataframe tbody tr th:only-of-type {\n        vertical-align: middle;\n    }\n\n    .dataframe tbody tr th {\n        vertical-align: top;\n    }\n\n    .dataframe thead th {\n        text-align: right;\n    }\n</style>\n<table border=\"1\" class=\"dataframe\">\n  <thead>\n    <tr style=\"text-align: right;\">\n      <th></th>\n      <th>Date</th>\n      <th>HomeTeam</th>\n      <th>AwayTeam</th>\n      <th>FTHG</th>\n      <th>FTAG</th>\n      <th>FTR</th>\n      <th>HTGS</th>\n      <th>ATGS</th>\n      <th>HTGC</th>\n      <th>ATGC</th>\n      <th>HTP</th>\n      <th>ATP</th>\n    </tr>\n  </thead>\n  <tbody>\n    <tr>\n      <th>0</th>\n      <td>10/08/2018</td>\n      <td>Man United</td>\n      <td>Leicester</td>\n      <td>2</td>\n      <td>1</td>\n      <td>H</td>\n      <td>0</td>\n      <td>0</td>\n      <td>0</td>\n      <td>0</td>\n      <td>0</td>\n      <td>0</td>\n    </tr>\n    <tr>\n      <th>1</th>\n      <td>11/08/2018</td>\n      <td>Bournemouth</td>\n      <td>Cardiff</td>\n      <td>2</td>\n      <td>0</td>\n      <td>H</td>\n      <td>0</td>\n      <td>0</td>\n      <td>0</td>\n      <td>0</td>\n      <td>0</td>\n      <td>0</td>\n    </tr>\n    <tr>\n      <th>2</th>\n      <td>11/08/2018</td>\n      <td>Fulham</td>\n      <td>Crystal Palace</td>\n      <td>0</td>\n      <td>2</td>\n      <td>A</td>\n      <td>0</td>\n      <td>0</td>\n      <td>0</td>\n      <td>0</td>\n      <td>0</td>\n      <td>0</td>\n    </tr>\n    <tr>\n      <th>3</th>\n      <td>11/08/2018</td>\n      <td>Huddersfield</td>\n      <td>Chelsea</td>\n      <td>0</td>\n      <td>3</td>\n      <td>A</td>\n      <td>0</td>\n      <td>0</td>\n      <td>0</td>\n      <td>0</td>\n      <td>0</td>\n      <td>0</td>\n    </tr>\n    <tr>\n      <th>4</th>\n      <td>11/08/2018</td>\n      <td>Newcastle</td>\n      <td>Tottenham</td>\n      <td>1</td>\n      <td>2</td>\n      <td>A</td>\n      <td>0</td>\n      <td>0</td>\n      <td>0</td>\n      <td>0</td>\n      <td>0</td>\n      <td>0</td>\n    </tr>\n    <tr>\n      <th>...</th>\n      <td>...</td>\n      <td>...</td>\n      <td>...</td>\n      <td>...</td>\n      <td>...</td>\n      <td>...</td>\n      <td>...</td>\n      <td>...</td>\n      <td>...</td>\n      <td>...</td>\n      <td>...</td>\n      <td>...</td>\n    </tr>\n    <tr>\n      <th>375</th>\n      <td>12/05/2019</td>\n      <td>Liverpool</td>\n      <td>Wolves</td>\n      <td>2</td>\n      <td>0</td>\n      <td>H</td>\n      <td>65</td>\n      <td>49</td>\n      <td>65</td>\n      <td>49</td>\n      <td>3</td>\n      <td>3</td>\n    </tr>\n    <tr>\n      <th>376</th>\n      <td>12/05/2019</td>\n      <td>Man United</td>\n      <td>Cardiff</td>\n      <td>0</td>\n      <td>2</td>\n      <td>A</td>\n      <td>56</td>\n      <td>56</td>\n      <td>56</td>\n      <td>56</td>\n      <td>1</td>\n      <td>0</td>\n    </tr>\n    <tr>\n      <th>377</th>\n      <td>12/05/2019</td>\n      <td>Southampton</td>\n      <td>Huddersfield</td>\n      <td>1</td>\n      <td>1</td>\n      <td>D</td>\n      <td>56</td>\n      <td>40</td>\n      <td>56</td>\n      <td>40</td>\n      <td>0</td>\n      <td>1</td>\n    </tr>\n    <tr>\n      <th>378</th>\n      <td>12/05/2019</td>\n      <td>Tottenham</td>\n      <td>Everton</td>\n      <td>2</td>\n      <td>2</td>\n      <td>D</td>\n      <td>48</td>\n      <td>51</td>\n      <td>48</td>\n      <td>51</td>\n      <td>0</td>\n      <td>3</td>\n    </tr>\n    <tr>\n      <th>379</th>\n      <td>12/05/2019</td>\n      <td>Watford</td>\n      <td>West Ham</td>\n      <td>1</td>\n      <td>4</td>\n      <td>A</td>\n      <td>50</td>\n      <td>59</td>\n      <td>50</td>\n      <td>59</td>\n      <td>0</td>\n      <td>3</td>\n    </tr>\n  </tbody>\n</table>\n<p>380 rows × 12 columns</p>\n</div>"
     },
     "metadata": {},
     "execution_count": 22
    }
   ],
   "source": [
    "playing_statistics_2"
   ]
  },
  {
   "cell_type": "code",
   "execution_count": 23,
   "metadata": {},
   "outputs": [],
   "source": [
    "def get_form(playing_stat,num):\n",
    "    form = get_matchres(playing_stat)\n",
    "    form_final = form.copy()\n",
    "    for i in range(num,39):\n",
    "        form_final[i] = ''\n",
    "        j = 0\n",
    "        while j < num:\n",
    "            form_final[i] += form[i-j]\n",
    "            j += 1           \n",
    "    return form_final"
   ]
  },
  {
   "cell_type": "code",
   "execution_count": 24,
   "metadata": {},
   "outputs": [],
   "source": [
    "def add_form(playing_stat,num):\n",
    "    form = get_form(playing_stat,num)\n",
    "    h = ['M' for i in range(num * 10)]  # since form is not available for n MW (n*10)\n",
    "    a = ['M' for i in range(num * 10)]\n",
    "    \n",
    "    j = num\n",
    "    for i in range((num*10),380):\n",
    "        ht = playing_stat.iloc[i].HomeTeam\n",
    "        at = playing_stat.iloc[i].AwayTeam\n",
    "        \n",
    "        past = form.loc[ht][j]               \n",
    "        h.append(past[num-1])                    \n",
    "        \n",
    "        past = form.loc[at][j]              \n",
    "        a.append(past[num-1])                \n",
    "        \n",
    "        if ((i + 1)% 10) == 0:\n",
    "            j = j + 1\n",
    "    \n",
    "    playing_stat['HM' + str(num)] = h[:playing_stat.shape[0]]                 \n",
    "    playing_stat['AM' + str(num)] = a[:playing_stat.shape[0]]\n",
    "\n",
    "    \n",
    "    return playing_stat"
   ]
  },
  {
   "cell_type": "code",
   "execution_count": 25,
   "metadata": {},
   "outputs": [],
   "source": [
    "def add_form_df(playing_statistics):\n",
    "    playing_statistics = add_form(playing_statistics,1)\n",
    "    playing_statistics = add_form(playing_statistics,2)\n",
    "    playing_statistics = add_form(playing_statistics,3)\n",
    "    playing_statistics = add_form(playing_statistics,4)\n",
    "    playing_statistics = add_form(playing_statistics,5)\n",
    "    return playing_statistics   "
   ]
  },
  {
   "cell_type": "code",
   "execution_count": 26,
   "metadata": {},
   "outputs": [],
   "source": [
    "# playing_statistics_1 = add_form_df(playing_statistics_1)\n",
    "playing_statistics_2 = add_form_df(playing_statistics_2)\n",
    "playing_statistics_3 = add_form_df(playing_statistics_3)\n",
    "playing_statistics_4 = add_form_df(playing_statistics_4)\n",
    "playing_statistics_5 = add_form_df(playing_statistics_5)\n",
    "playing_statistics_6 = add_form_df(playing_statistics_6)\n",
    "playing_statistics_7 = add_form_df(playing_statistics_7)\n",
    "playing_statistics_8 = add_form_df(playing_statistics_8)\n",
    "playing_statistics_9 = add_form_df(playing_statistics_9)\n",
    "playing_statistics_10 = add_form_df(playing_statistics_10)"
   ]
  },
  {
   "cell_type": "code",
   "execution_count": 27,
   "metadata": {},
   "outputs": [
    {
     "output_type": "execute_result",
     "data": {
      "text/plain": "         Date        HomeTeam        AwayTeam  FTHG  FTAG FTR  HTGS  ATGS  \\\n0    13/08/16         Burnley         Swansea     0     1   A     0     0   \n1    13/08/16  Crystal Palace       West Brom     0     1   A     0     0   \n2    13/08/16         Everton       Tottenham     1     1   D     0     0   \n3    13/08/16            Hull       Leicester     2     1   H     0     0   \n4    13/08/16        Man City      Sunderland     2     1   H     0     0   \n..        ...             ...             ...   ...   ...  ..   ...   ...   \n375  21/05/17       Liverpool   Middlesbrough     3     0   H    63    38   \n376  21/05/17      Man United  Crystal Palace     2     0   H    38    49   \n377  21/05/17     Southampton           Stoke     0     1   A    37    44   \n378  21/05/17         Swansea       West Brom     2     1   H    60    48   \n379  21/05/17         Watford        Man City     0     5   A    49    53   \n\n     HTGC  ATGC  ...  HM1  AM1 HM2 AM2 HM3 AM3 HM4 AM4 HM5 AM5  \n0       0     0  ...    M    M   M   M   M   M   M   M   M   M  \n1       0     0  ...    M    M   M   M   M   M   M   M   M   M  \n2       0     0  ...    M    M   M   M   M   M   M   M   M   M  \n3       0     0  ...    M    M   M   M   M   M   M   M   M   M  \n4       0     0  ...    M    M   M   M   M   M   M   M   M   M  \n..    ...   ...  ...  ...  ...  ..  ..  ..  ..  ..  ..  ..  ..  \n375    63    38  ...    W    L   D   L   W   D   L   W   W   L  \n376    38    49  ...    D    W   L   L   L   L   D   L   D   W  \n377    37    44  ...    D    L   W   D   L   D   D   L   D   W  \n378    60    48  ...    W    L   W   L   D   D   W   L   L   L  \n379    49    53  ...    L    W   L   W   L   W   L   D   L   D  \n\n[380 rows x 22 columns]",
      "text/html": "<div>\n<style scoped>\n    .dataframe tbody tr th:only-of-type {\n        vertical-align: middle;\n    }\n\n    .dataframe tbody tr th {\n        vertical-align: top;\n    }\n\n    .dataframe thead th {\n        text-align: right;\n    }\n</style>\n<table border=\"1\" class=\"dataframe\">\n  <thead>\n    <tr style=\"text-align: right;\">\n      <th></th>\n      <th>Date</th>\n      <th>HomeTeam</th>\n      <th>AwayTeam</th>\n      <th>FTHG</th>\n      <th>FTAG</th>\n      <th>FTR</th>\n      <th>HTGS</th>\n      <th>ATGS</th>\n      <th>HTGC</th>\n      <th>ATGC</th>\n      <th>...</th>\n      <th>HM1</th>\n      <th>AM1</th>\n      <th>HM2</th>\n      <th>AM2</th>\n      <th>HM3</th>\n      <th>AM3</th>\n      <th>HM4</th>\n      <th>AM4</th>\n      <th>HM5</th>\n      <th>AM5</th>\n    </tr>\n  </thead>\n  <tbody>\n    <tr>\n      <th>0</th>\n      <td>13/08/16</td>\n      <td>Burnley</td>\n      <td>Swansea</td>\n      <td>0</td>\n      <td>1</td>\n      <td>A</td>\n      <td>0</td>\n      <td>0</td>\n      <td>0</td>\n      <td>0</td>\n      <td>...</td>\n      <td>M</td>\n      <td>M</td>\n      <td>M</td>\n      <td>M</td>\n      <td>M</td>\n      <td>M</td>\n      <td>M</td>\n      <td>M</td>\n      <td>M</td>\n      <td>M</td>\n    </tr>\n    <tr>\n      <th>1</th>\n      <td>13/08/16</td>\n      <td>Crystal Palace</td>\n      <td>West Brom</td>\n      <td>0</td>\n      <td>1</td>\n      <td>A</td>\n      <td>0</td>\n      <td>0</td>\n      <td>0</td>\n      <td>0</td>\n      <td>...</td>\n      <td>M</td>\n      <td>M</td>\n      <td>M</td>\n      <td>M</td>\n      <td>M</td>\n      <td>M</td>\n      <td>M</td>\n      <td>M</td>\n      <td>M</td>\n      <td>M</td>\n    </tr>\n    <tr>\n      <th>2</th>\n      <td>13/08/16</td>\n      <td>Everton</td>\n      <td>Tottenham</td>\n      <td>1</td>\n      <td>1</td>\n      <td>D</td>\n      <td>0</td>\n      <td>0</td>\n      <td>0</td>\n      <td>0</td>\n      <td>...</td>\n      <td>M</td>\n      <td>M</td>\n      <td>M</td>\n      <td>M</td>\n      <td>M</td>\n      <td>M</td>\n      <td>M</td>\n      <td>M</td>\n      <td>M</td>\n      <td>M</td>\n    </tr>\n    <tr>\n      <th>3</th>\n      <td>13/08/16</td>\n      <td>Hull</td>\n      <td>Leicester</td>\n      <td>2</td>\n      <td>1</td>\n      <td>H</td>\n      <td>0</td>\n      <td>0</td>\n      <td>0</td>\n      <td>0</td>\n      <td>...</td>\n      <td>M</td>\n      <td>M</td>\n      <td>M</td>\n      <td>M</td>\n      <td>M</td>\n      <td>M</td>\n      <td>M</td>\n      <td>M</td>\n      <td>M</td>\n      <td>M</td>\n    </tr>\n    <tr>\n      <th>4</th>\n      <td>13/08/16</td>\n      <td>Man City</td>\n      <td>Sunderland</td>\n      <td>2</td>\n      <td>1</td>\n      <td>H</td>\n      <td>0</td>\n      <td>0</td>\n      <td>0</td>\n      <td>0</td>\n      <td>...</td>\n      <td>M</td>\n      <td>M</td>\n      <td>M</td>\n      <td>M</td>\n      <td>M</td>\n      <td>M</td>\n      <td>M</td>\n      <td>M</td>\n      <td>M</td>\n      <td>M</td>\n    </tr>\n    <tr>\n      <th>...</th>\n      <td>...</td>\n      <td>...</td>\n      <td>...</td>\n      <td>...</td>\n      <td>...</td>\n      <td>...</td>\n      <td>...</td>\n      <td>...</td>\n      <td>...</td>\n      <td>...</td>\n      <td>...</td>\n      <td>...</td>\n      <td>...</td>\n      <td>...</td>\n      <td>...</td>\n      <td>...</td>\n      <td>...</td>\n      <td>...</td>\n      <td>...</td>\n      <td>...</td>\n      <td>...</td>\n    </tr>\n    <tr>\n      <th>375</th>\n      <td>21/05/17</td>\n      <td>Liverpool</td>\n      <td>Middlesbrough</td>\n      <td>3</td>\n      <td>0</td>\n      <td>H</td>\n      <td>63</td>\n      <td>38</td>\n      <td>63</td>\n      <td>38</td>\n      <td>...</td>\n      <td>W</td>\n      <td>L</td>\n      <td>D</td>\n      <td>L</td>\n      <td>W</td>\n      <td>D</td>\n      <td>L</td>\n      <td>W</td>\n      <td>W</td>\n      <td>L</td>\n    </tr>\n    <tr>\n      <th>376</th>\n      <td>21/05/17</td>\n      <td>Man United</td>\n      <td>Crystal Palace</td>\n      <td>2</td>\n      <td>0</td>\n      <td>H</td>\n      <td>38</td>\n      <td>49</td>\n      <td>38</td>\n      <td>49</td>\n      <td>...</td>\n      <td>D</td>\n      <td>W</td>\n      <td>L</td>\n      <td>L</td>\n      <td>L</td>\n      <td>L</td>\n      <td>D</td>\n      <td>L</td>\n      <td>D</td>\n      <td>W</td>\n    </tr>\n    <tr>\n      <th>377</th>\n      <td>21/05/17</td>\n      <td>Southampton</td>\n      <td>Stoke</td>\n      <td>0</td>\n      <td>1</td>\n      <td>A</td>\n      <td>37</td>\n      <td>44</td>\n      <td>37</td>\n      <td>44</td>\n      <td>...</td>\n      <td>D</td>\n      <td>L</td>\n      <td>W</td>\n      <td>D</td>\n      <td>L</td>\n      <td>D</td>\n      <td>D</td>\n      <td>L</td>\n      <td>D</td>\n      <td>W</td>\n    </tr>\n    <tr>\n      <th>378</th>\n      <td>21/05/17</td>\n      <td>Swansea</td>\n      <td>West Brom</td>\n      <td>2</td>\n      <td>1</td>\n      <td>H</td>\n      <td>60</td>\n      <td>48</td>\n      <td>60</td>\n      <td>48</td>\n      <td>...</td>\n      <td>W</td>\n      <td>L</td>\n      <td>W</td>\n      <td>L</td>\n      <td>D</td>\n      <td>D</td>\n      <td>W</td>\n      <td>L</td>\n      <td>L</td>\n      <td>L</td>\n    </tr>\n    <tr>\n      <th>379</th>\n      <td>21/05/17</td>\n      <td>Watford</td>\n      <td>Man City</td>\n      <td>0</td>\n      <td>5</td>\n      <td>A</td>\n      <td>49</td>\n      <td>53</td>\n      <td>49</td>\n      <td>53</td>\n      <td>...</td>\n      <td>L</td>\n      <td>W</td>\n      <td>L</td>\n      <td>W</td>\n      <td>L</td>\n      <td>W</td>\n      <td>L</td>\n      <td>D</td>\n      <td>L</td>\n      <td>D</td>\n    </tr>\n  </tbody>\n</table>\n<p>380 rows × 22 columns</p>\n</div>"
     },
     "metadata": {},
     "execution_count": 27
    }
   ],
   "source": [
    "playing_statistics_3"
   ]
  },
  {
   "cell_type": "code",
   "execution_count": 28,
   "metadata": {},
   "outputs": [],
   "source": [
    "cols = ['Date', 'HomeTeam', 'AwayTeam', 'FTHG', 'FTAG', 'FTR', 'HTGS', 'ATGS', 'HTGC', 'ATGC', 'HTP', 'ATP', 'HM1', 'HM2', 'HM3',\n",
    "        'HM4', 'HM5', 'AM1', 'AM2', 'AM3', 'AM4', 'AM5' ]"
   ]
  },
  {
   "cell_type": "code",
   "execution_count": 29,
   "metadata": {},
   "outputs": [],
   "source": [
    "# playing_statistics_1 = playing_statistics_1[cols]\n",
    "playing_statistics_2 = playing_statistics_2[cols]\n",
    "playing_statistics_3 = playing_statistics_3[cols]\n",
    "playing_statistics_4 = playing_statistics_4[cols]\n",
    "playing_statistics_5 = playing_statistics_5[cols]\n",
    "playing_statistics_6 = playing_statistics_6[cols]\n",
    "playing_statistics_7 = playing_statistics_7[cols]\n",
    "playing_statistics_8 = playing_statistics_8[cols]\n",
    "playing_statistics_9 = playing_statistics_9[cols]\n",
    "playing_statistics_10 = playing_statistics_10[cols]"
   ]
  },
  {
   "cell_type": "code",
   "execution_count": 30,
   "metadata": {},
   "outputs": [],
   "source": [
    "Standings = pd.read_csv(\"./data/PremierLeague/eplStandings.csv\")\n",
    "Standings.set_index(['Team'], inplace=True)\n",
    "Standings = Standings.fillna(18)\n",
    "\n",
    "def get_last(playing_stat, Standings, year):\n",
    "    \"\"\" 順位結果 \"\"\"\n",
    "    HomeTeamLP = []\n",
    "    AwayTeamLP = []\n",
    "    for i in range(380):\n",
    "        ht = playing_stat.iloc[i].HomeTeam\n",
    "        at = playing_stat.iloc[i].AwayTeam\n",
    "        HomeTeamLP.append(Standings.loc[ht][year])\n",
    "        AwayTeamLP.append(Standings.loc[at][year])\n",
    "    playing_stat['HomeTeamLP'] = HomeTeamLP\n",
    "    playing_stat['AwayTeamLP'] = AwayTeamLP\n",
    "    return playing_stat"
   ]
  },
  {
   "cell_type": "code",
   "execution_count": 31,
   "metadata": {},
   "outputs": [],
   "source": [
    "# playing_statistics_1 = get_last(playing_statistics_1, Standings, 0)\n",
    "playing_statistics_2 = get_last(playing_statistics_2, Standings, \"18\")\n",
    "playing_statistics_3 = get_last(playing_statistics_3, Standings, \"17\")\n",
    "playing_statistics_4 = get_last(playing_statistics_4, Standings, \"16\")\n",
    "playing_statistics_5 = get_last(playing_statistics_5, Standings, \"15\")\n",
    "playing_statistics_6 = get_last(playing_statistics_6, Standings, \"14\")\n",
    "playing_statistics_7 = get_last(playing_statistics_7, Standings, \"13\")\n",
    "playing_statistics_8 = get_last(playing_statistics_8, Standings, \"12\")\n",
    "playing_statistics_9 = get_last(playing_statistics_9, Standings, \"11\")\n",
    "playing_statistics_10 = get_last(playing_statistics_10, Standings, \"10\")\n",
    ""
   ]
  },
  {
   "cell_type": "code",
   "execution_count": 32,
   "metadata": {},
   "outputs": [
    {
     "output_type": "execute_result",
     "data": {
      "text/plain": "        Date        HomeTeam        AwayTeam  FTHG  FTAG FTR  HTGS  ATGS  \\\n0   13/08/16         Burnley         Swansea     0     1   A     0     0   \n1   13/08/16  Crystal Palace       West Brom     0     1   A     0     0   \n2   13/08/16         Everton       Tottenham     1     1   D     0     0   \n3   13/08/16            Hull       Leicester     2     1   H     0     0   \n4   13/08/16        Man City      Sunderland     2     1   H     0     0   \n5   13/08/16   Middlesbrough           Stoke     1     1   D     0     0   \n6   13/08/16     Southampton         Watford     1     1   D     0     0   \n7   14/08/16         Arsenal       Liverpool     3     4   A     0     0   \n8   14/08/16     Bournemouth      Man United     1     3   A     0     0   \n9   15/08/16         Chelsea        West Ham     2     1   H     0     0   \n10  19/08/16      Man United     Southampton     2     0   H     2     1   \n11  20/08/16         Burnley       Liverpool     2     0   H     0     4   \n12  20/08/16       Leicester         Arsenal     0     0   D     0     3   \n13  20/08/16           Stoke        Man City     1     4   A     1     2   \n14  20/08/16         Swansea            Hull     0     2   A     0     2   \n15  20/08/16       Tottenham  Crystal Palace     1     0   H     1     0   \n16  20/08/16         Watford         Chelsea     1     2   A     1     2   \n17  20/08/16       West Brom         Everton     1     2   A     1     1   \n18  21/08/16      Sunderland   Middlesbrough     1     2   A     1     1   \n19  21/08/16        West Ham     Bournemouth     1     0   H     1     1   \n20  27/08/16         Chelsea         Burnley     3     0   H     3     1   \n21  27/08/16  Crystal Palace     Bournemouth     1     1   D     1     4   \n22  27/08/16         Everton           Stoke     1     0   H     2     5   \n23  27/08/16            Hull      Man United     0     1   A     3     2   \n24  27/08/16       Leicester         Swansea     2     1   H     0     2   \n25  27/08/16     Southampton      Sunderland     1     1   D     2     3   \n26  27/08/16       Tottenham       Liverpool     1     1   D     1     5   \n27  27/08/16         Watford         Arsenal     1     3   A     3     7   \n28  28/08/16        Man City        West Ham     3     1   H     3     1   \n29  28/08/16       West Brom   Middlesbrough     0     0   D     3     2   \n\n    HTGC  ATGC  ...  HM3  HM4 HM5 AM1 AM2 AM3 AM4 AM5 HomeTeamLP AwayTeamLP  \n0      0     0  ...    M    M   M   M   M   M   M   M        7.0       18.0  \n1      0     0  ...    M    M   M   M   M   M   M   M       11.0       20.0  \n2      0     0  ...    M    M   M   M   M   M   M   M        8.0        3.0  \n3      0     0  ...    M    M   M   M   M   M   M   M       18.0        9.0  \n4      0     0  ...    M    M   M   M   M   M   M   M        1.0       18.0  \n5      0     0  ...    M    M   M   M   M   M   M   M       18.0       19.0  \n6      0     0  ...    M    M   M   M   M   M   M   M       17.0       14.0  \n7      0     0  ...    M    M   M   M   M   M   M   M        6.0        4.0  \n8      0     0  ...    M    M   M   M   M   M   M   M       12.0        2.0  \n9      0     0  ...    M    M   M   M   M   M   M   M        5.0       13.0  \n10     2     1  ...    M    M   M   D   M   M   M   M        2.0       17.0  \n11     0     4  ...    M    M   M   W   M   M   M   M        7.0        4.0  \n12     0     3  ...    M    M   M   L   M   M   M   M        9.0        6.0  \n13     1     2  ...    M    M   M   W   M   M   M   M       19.0        1.0  \n14     0     2  ...    M    M   M   W   M   M   M   M       18.0       18.0  \n15     1     0  ...    M    M   M   L   M   M   M   M        3.0       11.0  \n16     1     2  ...    M    M   M   W   M   M   M   M       14.0        5.0  \n17     1     1  ...    M    M   M   D   M   M   M   M       20.0        8.0  \n18     1     1  ...    M    M   M   D   M   M   M   M       18.0       18.0  \n19     1     1  ...    M    M   M   L   M   M   M   M       13.0       12.0  \n20     3     1  ...    M    M   M   W   L   M   M   M        5.0        7.0  \n21     1     4  ...    M    M   M   L   L   M   M   M       11.0       12.0  \n22     2     5  ...    M    M   M   L   D   M   M   M        8.0       19.0  \n23     3     2  ...    M    M   M   W   W   M   M   M       18.0        2.0  \n24     0     2  ...    M    M   M   L   W   M   M   M        9.0       18.0  \n25     2     3  ...    M    M   M   L   L   M   M   M       17.0       18.0  \n26     1     5  ...    M    M   M   L   W   M   M   M        3.0        4.0  \n27     3     7  ...    M    M   M   D   L   M   M   M       14.0        6.0  \n28     3     1  ...    M    M   M   W   L   M   M   M        1.0       13.0  \n29     3     2  ...    M    M   M   W   D   M   M   M       20.0       18.0  \n\n[30 rows x 24 columns]",
      "text/html": "<div>\n<style scoped>\n    .dataframe tbody tr th:only-of-type {\n        vertical-align: middle;\n    }\n\n    .dataframe tbody tr th {\n        vertical-align: top;\n    }\n\n    .dataframe thead th {\n        text-align: right;\n    }\n</style>\n<table border=\"1\" class=\"dataframe\">\n  <thead>\n    <tr style=\"text-align: right;\">\n      <th></th>\n      <th>Date</th>\n      <th>HomeTeam</th>\n      <th>AwayTeam</th>\n      <th>FTHG</th>\n      <th>FTAG</th>\n      <th>FTR</th>\n      <th>HTGS</th>\n      <th>ATGS</th>\n      <th>HTGC</th>\n      <th>ATGC</th>\n      <th>...</th>\n      <th>HM3</th>\n      <th>HM4</th>\n      <th>HM5</th>\n      <th>AM1</th>\n      <th>AM2</th>\n      <th>AM3</th>\n      <th>AM4</th>\n      <th>AM5</th>\n      <th>HomeTeamLP</th>\n      <th>AwayTeamLP</th>\n    </tr>\n  </thead>\n  <tbody>\n    <tr>\n      <th>0</th>\n      <td>13/08/16</td>\n      <td>Burnley</td>\n      <td>Swansea</td>\n      <td>0</td>\n      <td>1</td>\n      <td>A</td>\n      <td>0</td>\n      <td>0</td>\n      <td>0</td>\n      <td>0</td>\n      <td>...</td>\n      <td>M</td>\n      <td>M</td>\n      <td>M</td>\n      <td>M</td>\n      <td>M</td>\n      <td>M</td>\n      <td>M</td>\n      <td>M</td>\n      <td>7.0</td>\n      <td>18.0</td>\n    </tr>\n    <tr>\n      <th>1</th>\n      <td>13/08/16</td>\n      <td>Crystal Palace</td>\n      <td>West Brom</td>\n      <td>0</td>\n      <td>1</td>\n      <td>A</td>\n      <td>0</td>\n      <td>0</td>\n      <td>0</td>\n      <td>0</td>\n      <td>...</td>\n      <td>M</td>\n      <td>M</td>\n      <td>M</td>\n      <td>M</td>\n      <td>M</td>\n      <td>M</td>\n      <td>M</td>\n      <td>M</td>\n      <td>11.0</td>\n      <td>20.0</td>\n    </tr>\n    <tr>\n      <th>2</th>\n      <td>13/08/16</td>\n      <td>Everton</td>\n      <td>Tottenham</td>\n      <td>1</td>\n      <td>1</td>\n      <td>D</td>\n      <td>0</td>\n      <td>0</td>\n      <td>0</td>\n      <td>0</td>\n      <td>...</td>\n      <td>M</td>\n      <td>M</td>\n      <td>M</td>\n      <td>M</td>\n      <td>M</td>\n      <td>M</td>\n      <td>M</td>\n      <td>M</td>\n      <td>8.0</td>\n      <td>3.0</td>\n    </tr>\n    <tr>\n      <th>3</th>\n      <td>13/08/16</td>\n      <td>Hull</td>\n      <td>Leicester</td>\n      <td>2</td>\n      <td>1</td>\n      <td>H</td>\n      <td>0</td>\n      <td>0</td>\n      <td>0</td>\n      <td>0</td>\n      <td>...</td>\n      <td>M</td>\n      <td>M</td>\n      <td>M</td>\n      <td>M</td>\n      <td>M</td>\n      <td>M</td>\n      <td>M</td>\n      <td>M</td>\n      <td>18.0</td>\n      <td>9.0</td>\n    </tr>\n    <tr>\n      <th>4</th>\n      <td>13/08/16</td>\n      <td>Man City</td>\n      <td>Sunderland</td>\n      <td>2</td>\n      <td>1</td>\n      <td>H</td>\n      <td>0</td>\n      <td>0</td>\n      <td>0</td>\n      <td>0</td>\n      <td>...</td>\n      <td>M</td>\n      <td>M</td>\n      <td>M</td>\n      <td>M</td>\n      <td>M</td>\n      <td>M</td>\n      <td>M</td>\n      <td>M</td>\n      <td>1.0</td>\n      <td>18.0</td>\n    </tr>\n    <tr>\n      <th>5</th>\n      <td>13/08/16</td>\n      <td>Middlesbrough</td>\n      <td>Stoke</td>\n      <td>1</td>\n      <td>1</td>\n      <td>D</td>\n      <td>0</td>\n      <td>0</td>\n      <td>0</td>\n      <td>0</td>\n      <td>...</td>\n      <td>M</td>\n      <td>M</td>\n      <td>M</td>\n      <td>M</td>\n      <td>M</td>\n      <td>M</td>\n      <td>M</td>\n      <td>M</td>\n      <td>18.0</td>\n      <td>19.0</td>\n    </tr>\n    <tr>\n      <th>6</th>\n      <td>13/08/16</td>\n      <td>Southampton</td>\n      <td>Watford</td>\n      <td>1</td>\n      <td>1</td>\n      <td>D</td>\n      <td>0</td>\n      <td>0</td>\n      <td>0</td>\n      <td>0</td>\n      <td>...</td>\n      <td>M</td>\n      <td>M</td>\n      <td>M</td>\n      <td>M</td>\n      <td>M</td>\n      <td>M</td>\n      <td>M</td>\n      <td>M</td>\n      <td>17.0</td>\n      <td>14.0</td>\n    </tr>\n    <tr>\n      <th>7</th>\n      <td>14/08/16</td>\n      <td>Arsenal</td>\n      <td>Liverpool</td>\n      <td>3</td>\n      <td>4</td>\n      <td>A</td>\n      <td>0</td>\n      <td>0</td>\n      <td>0</td>\n      <td>0</td>\n      <td>...</td>\n      <td>M</td>\n      <td>M</td>\n      <td>M</td>\n      <td>M</td>\n      <td>M</td>\n      <td>M</td>\n      <td>M</td>\n      <td>M</td>\n      <td>6.0</td>\n      <td>4.0</td>\n    </tr>\n    <tr>\n      <th>8</th>\n      <td>14/08/16</td>\n      <td>Bournemouth</td>\n      <td>Man United</td>\n      <td>1</td>\n      <td>3</td>\n      <td>A</td>\n      <td>0</td>\n      <td>0</td>\n      <td>0</td>\n      <td>0</td>\n      <td>...</td>\n      <td>M</td>\n      <td>M</td>\n      <td>M</td>\n      <td>M</td>\n      <td>M</td>\n      <td>M</td>\n      <td>M</td>\n      <td>M</td>\n      <td>12.0</td>\n      <td>2.0</td>\n    </tr>\n    <tr>\n      <th>9</th>\n      <td>15/08/16</td>\n      <td>Chelsea</td>\n      <td>West Ham</td>\n      <td>2</td>\n      <td>1</td>\n      <td>H</td>\n      <td>0</td>\n      <td>0</td>\n      <td>0</td>\n      <td>0</td>\n      <td>...</td>\n      <td>M</td>\n      <td>M</td>\n      <td>M</td>\n      <td>M</td>\n      <td>M</td>\n      <td>M</td>\n      <td>M</td>\n      <td>M</td>\n      <td>5.0</td>\n      <td>13.0</td>\n    </tr>\n    <tr>\n      <th>10</th>\n      <td>19/08/16</td>\n      <td>Man United</td>\n      <td>Southampton</td>\n      <td>2</td>\n      <td>0</td>\n      <td>H</td>\n      <td>2</td>\n      <td>1</td>\n      <td>2</td>\n      <td>1</td>\n      <td>...</td>\n      <td>M</td>\n      <td>M</td>\n      <td>M</td>\n      <td>D</td>\n      <td>M</td>\n      <td>M</td>\n      <td>M</td>\n      <td>M</td>\n      <td>2.0</td>\n      <td>17.0</td>\n    </tr>\n    <tr>\n      <th>11</th>\n      <td>20/08/16</td>\n      <td>Burnley</td>\n      <td>Liverpool</td>\n      <td>2</td>\n      <td>0</td>\n      <td>H</td>\n      <td>0</td>\n      <td>4</td>\n      <td>0</td>\n      <td>4</td>\n      <td>...</td>\n      <td>M</td>\n      <td>M</td>\n      <td>M</td>\n      <td>W</td>\n      <td>M</td>\n      <td>M</td>\n      <td>M</td>\n      <td>M</td>\n      <td>7.0</td>\n      <td>4.0</td>\n    </tr>\n    <tr>\n      <th>12</th>\n      <td>20/08/16</td>\n      <td>Leicester</td>\n      <td>Arsenal</td>\n      <td>0</td>\n      <td>0</td>\n      <td>D</td>\n      <td>0</td>\n      <td>3</td>\n      <td>0</td>\n      <td>3</td>\n      <td>...</td>\n      <td>M</td>\n      <td>M</td>\n      <td>M</td>\n      <td>L</td>\n      <td>M</td>\n      <td>M</td>\n      <td>M</td>\n      <td>M</td>\n      <td>9.0</td>\n      <td>6.0</td>\n    </tr>\n    <tr>\n      <th>13</th>\n      <td>20/08/16</td>\n      <td>Stoke</td>\n      <td>Man City</td>\n      <td>1</td>\n      <td>4</td>\n      <td>A</td>\n      <td>1</td>\n      <td>2</td>\n      <td>1</td>\n      <td>2</td>\n      <td>...</td>\n      <td>M</td>\n      <td>M</td>\n      <td>M</td>\n      <td>W</td>\n      <td>M</td>\n      <td>M</td>\n      <td>M</td>\n      <td>M</td>\n      <td>19.0</td>\n      <td>1.0</td>\n    </tr>\n    <tr>\n      <th>14</th>\n      <td>20/08/16</td>\n      <td>Swansea</td>\n      <td>Hull</td>\n      <td>0</td>\n      <td>2</td>\n      <td>A</td>\n      <td>0</td>\n      <td>2</td>\n      <td>0</td>\n      <td>2</td>\n      <td>...</td>\n      <td>M</td>\n      <td>M</td>\n      <td>M</td>\n      <td>W</td>\n      <td>M</td>\n      <td>M</td>\n      <td>M</td>\n      <td>M</td>\n      <td>18.0</td>\n      <td>18.0</td>\n    </tr>\n    <tr>\n      <th>15</th>\n      <td>20/08/16</td>\n      <td>Tottenham</td>\n      <td>Crystal Palace</td>\n      <td>1</td>\n      <td>0</td>\n      <td>H</td>\n      <td>1</td>\n      <td>0</td>\n      <td>1</td>\n      <td>0</td>\n      <td>...</td>\n      <td>M</td>\n      <td>M</td>\n      <td>M</td>\n      <td>L</td>\n      <td>M</td>\n      <td>M</td>\n      <td>M</td>\n      <td>M</td>\n      <td>3.0</td>\n      <td>11.0</td>\n    </tr>\n    <tr>\n      <th>16</th>\n      <td>20/08/16</td>\n      <td>Watford</td>\n      <td>Chelsea</td>\n      <td>1</td>\n      <td>2</td>\n      <td>A</td>\n      <td>1</td>\n      <td>2</td>\n      <td>1</td>\n      <td>2</td>\n      <td>...</td>\n      <td>M</td>\n      <td>M</td>\n      <td>M</td>\n      <td>W</td>\n      <td>M</td>\n      <td>M</td>\n      <td>M</td>\n      <td>M</td>\n      <td>14.0</td>\n      <td>5.0</td>\n    </tr>\n    <tr>\n      <th>17</th>\n      <td>20/08/16</td>\n      <td>West Brom</td>\n      <td>Everton</td>\n      <td>1</td>\n      <td>2</td>\n      <td>A</td>\n      <td>1</td>\n      <td>1</td>\n      <td>1</td>\n      <td>1</td>\n      <td>...</td>\n      <td>M</td>\n      <td>M</td>\n      <td>M</td>\n      <td>D</td>\n      <td>M</td>\n      <td>M</td>\n      <td>M</td>\n      <td>M</td>\n      <td>20.0</td>\n      <td>8.0</td>\n    </tr>\n    <tr>\n      <th>18</th>\n      <td>21/08/16</td>\n      <td>Sunderland</td>\n      <td>Middlesbrough</td>\n      <td>1</td>\n      <td>2</td>\n      <td>A</td>\n      <td>1</td>\n      <td>1</td>\n      <td>1</td>\n      <td>1</td>\n      <td>...</td>\n      <td>M</td>\n      <td>M</td>\n      <td>M</td>\n      <td>D</td>\n      <td>M</td>\n      <td>M</td>\n      <td>M</td>\n      <td>M</td>\n      <td>18.0</td>\n      <td>18.0</td>\n    </tr>\n    <tr>\n      <th>19</th>\n      <td>21/08/16</td>\n      <td>West Ham</td>\n      <td>Bournemouth</td>\n      <td>1</td>\n      <td>0</td>\n      <td>H</td>\n      <td>1</td>\n      <td>1</td>\n      <td>1</td>\n      <td>1</td>\n      <td>...</td>\n      <td>M</td>\n      <td>M</td>\n      <td>M</td>\n      <td>L</td>\n      <td>M</td>\n      <td>M</td>\n      <td>M</td>\n      <td>M</td>\n      <td>13.0</td>\n      <td>12.0</td>\n    </tr>\n    <tr>\n      <th>20</th>\n      <td>27/08/16</td>\n      <td>Chelsea</td>\n      <td>Burnley</td>\n      <td>3</td>\n      <td>0</td>\n      <td>H</td>\n      <td>3</td>\n      <td>1</td>\n      <td>3</td>\n      <td>1</td>\n      <td>...</td>\n      <td>M</td>\n      <td>M</td>\n      <td>M</td>\n      <td>W</td>\n      <td>L</td>\n      <td>M</td>\n      <td>M</td>\n      <td>M</td>\n      <td>5.0</td>\n      <td>7.0</td>\n    </tr>\n    <tr>\n      <th>21</th>\n      <td>27/08/16</td>\n      <td>Crystal Palace</td>\n      <td>Bournemouth</td>\n      <td>1</td>\n      <td>1</td>\n      <td>D</td>\n      <td>1</td>\n      <td>4</td>\n      <td>1</td>\n      <td>4</td>\n      <td>...</td>\n      <td>M</td>\n      <td>M</td>\n      <td>M</td>\n      <td>L</td>\n      <td>L</td>\n      <td>M</td>\n      <td>M</td>\n      <td>M</td>\n      <td>11.0</td>\n      <td>12.0</td>\n    </tr>\n    <tr>\n      <th>22</th>\n      <td>27/08/16</td>\n      <td>Everton</td>\n      <td>Stoke</td>\n      <td>1</td>\n      <td>0</td>\n      <td>H</td>\n      <td>2</td>\n      <td>5</td>\n      <td>2</td>\n      <td>5</td>\n      <td>...</td>\n      <td>M</td>\n      <td>M</td>\n      <td>M</td>\n      <td>L</td>\n      <td>D</td>\n      <td>M</td>\n      <td>M</td>\n      <td>M</td>\n      <td>8.0</td>\n      <td>19.0</td>\n    </tr>\n    <tr>\n      <th>23</th>\n      <td>27/08/16</td>\n      <td>Hull</td>\n      <td>Man United</td>\n      <td>0</td>\n      <td>1</td>\n      <td>A</td>\n      <td>3</td>\n      <td>2</td>\n      <td>3</td>\n      <td>2</td>\n      <td>...</td>\n      <td>M</td>\n      <td>M</td>\n      <td>M</td>\n      <td>W</td>\n      <td>W</td>\n      <td>M</td>\n      <td>M</td>\n      <td>M</td>\n      <td>18.0</td>\n      <td>2.0</td>\n    </tr>\n    <tr>\n      <th>24</th>\n      <td>27/08/16</td>\n      <td>Leicester</td>\n      <td>Swansea</td>\n      <td>2</td>\n      <td>1</td>\n      <td>H</td>\n      <td>0</td>\n      <td>2</td>\n      <td>0</td>\n      <td>2</td>\n      <td>...</td>\n      <td>M</td>\n      <td>M</td>\n      <td>M</td>\n      <td>L</td>\n      <td>W</td>\n      <td>M</td>\n      <td>M</td>\n      <td>M</td>\n      <td>9.0</td>\n      <td>18.0</td>\n    </tr>\n    <tr>\n      <th>25</th>\n      <td>27/08/16</td>\n      <td>Southampton</td>\n      <td>Sunderland</td>\n      <td>1</td>\n      <td>1</td>\n      <td>D</td>\n      <td>2</td>\n      <td>3</td>\n      <td>2</td>\n      <td>3</td>\n      <td>...</td>\n      <td>M</td>\n      <td>M</td>\n      <td>M</td>\n      <td>L</td>\n      <td>L</td>\n      <td>M</td>\n      <td>M</td>\n      <td>M</td>\n      <td>17.0</td>\n      <td>18.0</td>\n    </tr>\n    <tr>\n      <th>26</th>\n      <td>27/08/16</td>\n      <td>Tottenham</td>\n      <td>Liverpool</td>\n      <td>1</td>\n      <td>1</td>\n      <td>D</td>\n      <td>1</td>\n      <td>5</td>\n      <td>1</td>\n      <td>5</td>\n      <td>...</td>\n      <td>M</td>\n      <td>M</td>\n      <td>M</td>\n      <td>L</td>\n      <td>W</td>\n      <td>M</td>\n      <td>M</td>\n      <td>M</td>\n      <td>3.0</td>\n      <td>4.0</td>\n    </tr>\n    <tr>\n      <th>27</th>\n      <td>27/08/16</td>\n      <td>Watford</td>\n      <td>Arsenal</td>\n      <td>1</td>\n      <td>3</td>\n      <td>A</td>\n      <td>3</td>\n      <td>7</td>\n      <td>3</td>\n      <td>7</td>\n      <td>...</td>\n      <td>M</td>\n      <td>M</td>\n      <td>M</td>\n      <td>D</td>\n      <td>L</td>\n      <td>M</td>\n      <td>M</td>\n      <td>M</td>\n      <td>14.0</td>\n      <td>6.0</td>\n    </tr>\n    <tr>\n      <th>28</th>\n      <td>28/08/16</td>\n      <td>Man City</td>\n      <td>West Ham</td>\n      <td>3</td>\n      <td>1</td>\n      <td>H</td>\n      <td>3</td>\n      <td>1</td>\n      <td>3</td>\n      <td>1</td>\n      <td>...</td>\n      <td>M</td>\n      <td>M</td>\n      <td>M</td>\n      <td>W</td>\n      <td>L</td>\n      <td>M</td>\n      <td>M</td>\n      <td>M</td>\n      <td>1.0</td>\n      <td>13.0</td>\n    </tr>\n    <tr>\n      <th>29</th>\n      <td>28/08/16</td>\n      <td>West Brom</td>\n      <td>Middlesbrough</td>\n      <td>0</td>\n      <td>0</td>\n      <td>D</td>\n      <td>3</td>\n      <td>2</td>\n      <td>3</td>\n      <td>2</td>\n      <td>...</td>\n      <td>M</td>\n      <td>M</td>\n      <td>M</td>\n      <td>W</td>\n      <td>D</td>\n      <td>M</td>\n      <td>M</td>\n      <td>M</td>\n      <td>20.0</td>\n      <td>18.0</td>\n    </tr>\n  </tbody>\n</table>\n<p>30 rows × 24 columns</p>\n</div>"
     },
     "metadata": {},
     "execution_count": 32
    }
   ],
   "source": [
    "playing_statistics_3.head(30)"
   ]
  },
  {
   "cell_type": "code",
   "execution_count": 33,
   "metadata": {},
   "outputs": [],
   "source": [
    "def get_mw(playing_stat):\n",
    "    j = 1\n",
    "    MatchWeek = []\n",
    "    for i in range(380):\n",
    "        MatchWeek.append(j)\n",
    "        if ((i + 1)% 10) == 0:\n",
    "            j = j + 1\n",
    "    playing_stat['MW'] = MatchWeek\n",
    "    return playing_stat"
   ]
  },
  {
   "cell_type": "code",
   "execution_count": 34,
   "metadata": {},
   "outputs": [],
   "source": [
    "# playing_statistics_1 = get_mw(playing_statistics_1)\n",
    "playing_statistics_2 = get_mw(playing_statistics_2)\n",
    "playing_statistics_3 = get_mw(playing_statistics_3)\n",
    "playing_statistics_4 = get_mw(playing_statistics_4)\n",
    "playing_statistics_5 = get_mw(playing_statistics_5)\n",
    "playing_statistics_6 = get_mw(playing_statistics_6)\n",
    "playing_statistics_7 = get_mw(playing_statistics_7)\n",
    "playing_statistics_8 = get_mw(playing_statistics_8)\n",
    "playing_statistics_9 = get_mw(playing_statistics_9)\n",
    "playing_statistics_10 = get_mw(playing_statistics_10)\n",
    ""
   ]
  },
  {
   "cell_type": "code",
   "execution_count": 35,
   "metadata": {},
   "outputs": [],
   "source": [
    "playing_stat = pd.concat([playing_statistics_10,\n",
    "                         playing_statistics_9,\n",
    "                         playing_statistics_8,\n",
    "                         playing_statistics_7,\n",
    "                         playing_statistics_6,\n",
    "                         playing_statistics_5,\n",
    "                         playing_statistics_4,\n",
    "                         playing_statistics_3,\n",
    "                         playing_statistics_2], ignore_index=True)"
   ]
  },
  {
   "cell_type": "code",
   "execution_count": 36,
   "metadata": {},
   "outputs": [
    {
     "output_type": "execute_result",
     "data": {
      "text/plain": "        Date     HomeTeam     AwayTeam  FTHG  FTAG FTR  HTGS  ATGS  HTGC  \\\n0   14/08/10  Aston Villa     West Ham   3.0   0.0   H   0.0   0.0   0.0   \n1   14/08/10    Blackburn      Everton   1.0   0.0   H   0.0   0.0   0.0   \n2   14/08/10       Bolton       Fulham   0.0   0.0   D   0.0   0.0   0.0   \n3   14/08/10      Chelsea    West Brom   6.0   0.0   H   0.0   0.0   0.0   \n4   14/08/10   Sunderland   Birmingham   2.0   2.0   D   0.0   0.0   0.0   \n5   14/08/10    Tottenham     Man City   0.0   0.0   D   0.0   0.0   0.0   \n6   14/08/10        Wigan    Blackpool   0.0   4.0   A   0.0   0.0   0.0   \n7   14/08/10       Wolves        Stoke   2.0   1.0   H   0.0   0.0   0.0   \n8   15/08/10    Liverpool      Arsenal   1.0   1.0   D   0.0   0.0   0.0   \n9   16/08/10   Man United    Newcastle   3.0   0.0   H   0.0   0.0   0.0   \n10  21/08/10      Arsenal    Blackpool   6.0   0.0   H   6.0   2.0   6.0   \n11  21/08/10   Birmingham    Blackburn   2.0   1.0   H   2.0   1.0   2.0   \n12  21/08/10      Everton       Wolves   1.0   1.0   D   1.0   2.0   1.0   \n13  21/08/10        Stoke    Tottenham   1.0   2.0   A   1.0   0.0   1.0   \n14  21/08/10    West Brom   Sunderland   1.0   0.0   H   1.0   2.0   1.0   \n15  21/08/10     West Ham       Bolton   1.0   3.0   A   1.0   0.0   1.0   \n16  21/08/10        Wigan      Chelsea   0.0   6.0   A   0.0   6.0   0.0   \n17  22/08/10       Fulham   Man United   2.0   2.0   D   2.0   3.0   2.0   \n18  22/08/10    Newcastle  Aston Villa   6.0   0.0   H   6.0   3.0   6.0   \n19  23/08/10     Man City    Liverpool   3.0   0.0   H   3.0   1.0   3.0   \n20  28/08/10    Blackburn      Arsenal   1.0   2.0   A   1.0   6.0   1.0   \n21  28/08/10    Blackpool       Fulham   2.0   2.0   D   4.0   4.0   4.0   \n22  28/08/10      Chelsea        Stoke   2.0   0.0   H   6.0   3.0   6.0   \n23  28/08/10   Man United     West Ham   3.0   0.0   H   3.0   4.0   3.0   \n24  28/08/10    Tottenham        Wigan   0.0   1.0   A   0.0   4.0   0.0   \n25  28/08/10       Wolves    Newcastle   1.0   1.0   D   3.0   6.0   3.0   \n26  29/08/10  Aston Villa      Everton   1.0   0.0   H   3.0   2.0   3.0   \n27  29/08/10       Bolton   Birmingham   2.0   2.0   D   0.0   3.0   0.0   \n28  29/08/10    Liverpool    West Brom   1.0   0.0   H   2.0   1.0   2.0   \n29  29/08/10   Sunderland     Man City   1.0   0.0   H   4.0   3.0   4.0   \n30  11/09/10      Arsenal       Bolton   4.0   1.0   H  10.0   2.0  10.0   \n31  11/09/10      Everton   Man United   3.0   3.0   D   5.0   6.0   5.0   \n32  11/09/10       Fulham       Wolves   2.0   1.0   H   6.0   4.0   6.0   \n33  11/09/10     Man City    Blackburn   1.0   1.0   D   4.0   2.0   4.0   \n34  11/09/10    Newcastle    Blackpool   0.0   2.0   A   6.0   5.0   6.0   \n35  11/09/10    West Brom    Tottenham   1.0   1.0   D   2.0   0.0   2.0   \n36  11/09/10     West Ham      Chelsea   1.0   3.0   A   5.0   8.0   5.0   \n37  11/09/10        Wigan   Sunderland   1.0   1.0   D   4.0   5.0   4.0   \n38  12/09/10   Birmingham    Liverpool   0.0   0.0   D   3.0   3.0   3.0   \n39  13/09/10        Stoke  Aston Villa   2.0   1.0   H   5.0   4.0   5.0   \n\n    ATGC  ...  HM4  HM5 AM1 AM2 AM3 AM4 AM5 HomeTeamLP AwayTeamLP MW  \n0    0.0  ...    M    M   M   M   M   M   M        9.0       20.0  1  \n1    0.0  ...    M    M   M   M   M   M   M       15.0        7.0  1  \n2    0.0  ...    M    M   M   M   M   M   M       14.0        8.0  1  \n3    0.0  ...    M    M   M   M   M   M   M        2.0       11.0  1  \n4    0.0  ...    M    M   M   M   M   M   M       10.0       18.0  1  \n5    0.0  ...    M    M   M   M   M   M   M        5.0        3.0  1  \n6    0.0  ...    M    M   M   M   M   M   M       16.0       19.0  1  \n7    0.0  ...    M    M   M   M   M   M   M       17.0       13.0  1  \n8    0.0  ...    M    M   M   M   M   M   M        6.0        4.0  1  \n9    0.0  ...    M    M   M   M   M   M   M        1.0       12.0  1  \n10   2.0  ...    M    M   W   M   M   M   M        4.0       19.0  2  \n11   1.0  ...    M    M   W   M   M   M   M       18.0       15.0  2  \n12   2.0  ...    M    M   W   M   M   M   M        7.0       17.0  2  \n13   0.0  ...    M    M   D   M   M   M   M       13.0        5.0  2  \n14   2.0  ...    M    M   D   M   M   M   M       11.0       10.0  2  \n15   0.0  ...    M    M   D   M   M   M   M       20.0       14.0  2  \n16   6.0  ...    M    M   W   M   M   M   M       16.0        2.0  2  \n17   3.0  ...    M    M   W   M   M   M   M        8.0        1.0  2  \n18   3.0  ...    M    M   W   M   M   M   M       12.0        9.0  2  \n19   1.0  ...    M    M   D   M   M   M   M        3.0        6.0  2  \n20   6.0  ...    M    M   W   D   M   M   M       15.0        4.0  3  \n21   4.0  ...    M    M   D   D   M   M   M       19.0        8.0  3  \n22   3.0  ...    M    M   L   L   M   M   M        2.0       13.0  3  \n23   4.0  ...    M    M   L   L   M   M   M        1.0       20.0  3  \n24   4.0  ...    M    M   L   L   M   M   M        5.0       16.0  3  \n25   6.0  ...    M    M   W   L   M   M   M       17.0       12.0  3  \n26   2.0  ...    M    M   D   L   M   M   M        9.0        7.0  3  \n27   3.0  ...    M    M   W   D   M   M   M       14.0       18.0  3  \n28   1.0  ...    M    M   W   L   M   M   M        6.0       11.0  3  \n29   3.0  ...    M    M   W   D   M   M   M       10.0        3.0  3  \n30   2.0  ...    M    M   D   W   D   M   M        4.0       14.0  4  \n31   6.0  ...    M    M   W   D   W   M   M        7.0        1.0  4  \n32   4.0  ...    M    M   D   D   W   M   M        8.0       17.0  4  \n33   2.0  ...    M    M   L   L   W   M   M        3.0       15.0  4  \n34   5.0  ...    M    M   D   L   W   M   M       12.0       19.0  4  \n35   0.0  ...    M    M   L   W   D   M   M       11.0        5.0  4  \n36   8.0  ...    M    M   W   W   W   M   M       20.0        2.0  4  \n37   5.0  ...    M    M   W   L   D   M   M       16.0       10.0  4  \n38   3.0  ...    M    M   W   L   D   M   M       18.0        6.0  4  \n39   4.0  ...    M    M   W   L   W   M   M       13.0        9.0  4  \n\n[40 rows x 25 columns]",
      "text/html": "<div>\n<style scoped>\n    .dataframe tbody tr th:only-of-type {\n        vertical-align: middle;\n    }\n\n    .dataframe tbody tr th {\n        vertical-align: top;\n    }\n\n    .dataframe thead th {\n        text-align: right;\n    }\n</style>\n<table border=\"1\" class=\"dataframe\">\n  <thead>\n    <tr style=\"text-align: right;\">\n      <th></th>\n      <th>Date</th>\n      <th>HomeTeam</th>\n      <th>AwayTeam</th>\n      <th>FTHG</th>\n      <th>FTAG</th>\n      <th>FTR</th>\n      <th>HTGS</th>\n      <th>ATGS</th>\n      <th>HTGC</th>\n      <th>ATGC</th>\n      <th>...</th>\n      <th>HM4</th>\n      <th>HM5</th>\n      <th>AM1</th>\n      <th>AM2</th>\n      <th>AM3</th>\n      <th>AM4</th>\n      <th>AM5</th>\n      <th>HomeTeamLP</th>\n      <th>AwayTeamLP</th>\n      <th>MW</th>\n    </tr>\n  </thead>\n  <tbody>\n    <tr>\n      <th>0</th>\n      <td>14/08/10</td>\n      <td>Aston Villa</td>\n      <td>West Ham</td>\n      <td>3.0</td>\n      <td>0.0</td>\n      <td>H</td>\n      <td>0.0</td>\n      <td>0.0</td>\n      <td>0.0</td>\n      <td>0.0</td>\n      <td>...</td>\n      <td>M</td>\n      <td>M</td>\n      <td>M</td>\n      <td>M</td>\n      <td>M</td>\n      <td>M</td>\n      <td>M</td>\n      <td>9.0</td>\n      <td>20.0</td>\n      <td>1</td>\n    </tr>\n    <tr>\n      <th>1</th>\n      <td>14/08/10</td>\n      <td>Blackburn</td>\n      <td>Everton</td>\n      <td>1.0</td>\n      <td>0.0</td>\n      <td>H</td>\n      <td>0.0</td>\n      <td>0.0</td>\n      <td>0.0</td>\n      <td>0.0</td>\n      <td>...</td>\n      <td>M</td>\n      <td>M</td>\n      <td>M</td>\n      <td>M</td>\n      <td>M</td>\n      <td>M</td>\n      <td>M</td>\n      <td>15.0</td>\n      <td>7.0</td>\n      <td>1</td>\n    </tr>\n    <tr>\n      <th>2</th>\n      <td>14/08/10</td>\n      <td>Bolton</td>\n      <td>Fulham</td>\n      <td>0.0</td>\n      <td>0.0</td>\n      <td>D</td>\n      <td>0.0</td>\n      <td>0.0</td>\n      <td>0.0</td>\n      <td>0.0</td>\n      <td>...</td>\n      <td>M</td>\n      <td>M</td>\n      <td>M</td>\n      <td>M</td>\n      <td>M</td>\n      <td>M</td>\n      <td>M</td>\n      <td>14.0</td>\n      <td>8.0</td>\n      <td>1</td>\n    </tr>\n    <tr>\n      <th>3</th>\n      <td>14/08/10</td>\n      <td>Chelsea</td>\n      <td>West Brom</td>\n      <td>6.0</td>\n      <td>0.0</td>\n      <td>H</td>\n      <td>0.0</td>\n      <td>0.0</td>\n      <td>0.0</td>\n      <td>0.0</td>\n      <td>...</td>\n      <td>M</td>\n      <td>M</td>\n      <td>M</td>\n      <td>M</td>\n      <td>M</td>\n      <td>M</td>\n      <td>M</td>\n      <td>2.0</td>\n      <td>11.0</td>\n      <td>1</td>\n    </tr>\n    <tr>\n      <th>4</th>\n      <td>14/08/10</td>\n      <td>Sunderland</td>\n      <td>Birmingham</td>\n      <td>2.0</td>\n      <td>2.0</td>\n      <td>D</td>\n      <td>0.0</td>\n      <td>0.0</td>\n      <td>0.0</td>\n      <td>0.0</td>\n      <td>...</td>\n      <td>M</td>\n      <td>M</td>\n      <td>M</td>\n      <td>M</td>\n      <td>M</td>\n      <td>M</td>\n      <td>M</td>\n      <td>10.0</td>\n      <td>18.0</td>\n      <td>1</td>\n    </tr>\n    <tr>\n      <th>5</th>\n      <td>14/08/10</td>\n      <td>Tottenham</td>\n      <td>Man City</td>\n      <td>0.0</td>\n      <td>0.0</td>\n      <td>D</td>\n      <td>0.0</td>\n      <td>0.0</td>\n      <td>0.0</td>\n      <td>0.0</td>\n      <td>...</td>\n      <td>M</td>\n      <td>M</td>\n      <td>M</td>\n      <td>M</td>\n      <td>M</td>\n      <td>M</td>\n      <td>M</td>\n      <td>5.0</td>\n      <td>3.0</td>\n      <td>1</td>\n    </tr>\n    <tr>\n      <th>6</th>\n      <td>14/08/10</td>\n      <td>Wigan</td>\n      <td>Blackpool</td>\n      <td>0.0</td>\n      <td>4.0</td>\n      <td>A</td>\n      <td>0.0</td>\n      <td>0.0</td>\n      <td>0.0</td>\n      <td>0.0</td>\n      <td>...</td>\n      <td>M</td>\n      <td>M</td>\n      <td>M</td>\n      <td>M</td>\n      <td>M</td>\n      <td>M</td>\n      <td>M</td>\n      <td>16.0</td>\n      <td>19.0</td>\n      <td>1</td>\n    </tr>\n    <tr>\n      <th>7</th>\n      <td>14/08/10</td>\n      <td>Wolves</td>\n      <td>Stoke</td>\n      <td>2.0</td>\n      <td>1.0</td>\n      <td>H</td>\n      <td>0.0</td>\n      <td>0.0</td>\n      <td>0.0</td>\n      <td>0.0</td>\n      <td>...</td>\n      <td>M</td>\n      <td>M</td>\n      <td>M</td>\n      <td>M</td>\n      <td>M</td>\n      <td>M</td>\n      <td>M</td>\n      <td>17.0</td>\n      <td>13.0</td>\n      <td>1</td>\n    </tr>\n    <tr>\n      <th>8</th>\n      <td>15/08/10</td>\n      <td>Liverpool</td>\n      <td>Arsenal</td>\n      <td>1.0</td>\n      <td>1.0</td>\n      <td>D</td>\n      <td>0.0</td>\n      <td>0.0</td>\n      <td>0.0</td>\n      <td>0.0</td>\n      <td>...</td>\n      <td>M</td>\n      <td>M</td>\n      <td>M</td>\n      <td>M</td>\n      <td>M</td>\n      <td>M</td>\n      <td>M</td>\n      <td>6.0</td>\n      <td>4.0</td>\n      <td>1</td>\n    </tr>\n    <tr>\n      <th>9</th>\n      <td>16/08/10</td>\n      <td>Man United</td>\n      <td>Newcastle</td>\n      <td>3.0</td>\n      <td>0.0</td>\n      <td>H</td>\n      <td>0.0</td>\n      <td>0.0</td>\n      <td>0.0</td>\n      <td>0.0</td>\n      <td>...</td>\n      <td>M</td>\n      <td>M</td>\n      <td>M</td>\n      <td>M</td>\n      <td>M</td>\n      <td>M</td>\n      <td>M</td>\n      <td>1.0</td>\n      <td>12.0</td>\n      <td>1</td>\n    </tr>\n    <tr>\n      <th>10</th>\n      <td>21/08/10</td>\n      <td>Arsenal</td>\n      <td>Blackpool</td>\n      <td>6.0</td>\n      <td>0.0</td>\n      <td>H</td>\n      <td>6.0</td>\n      <td>2.0</td>\n      <td>6.0</td>\n      <td>2.0</td>\n      <td>...</td>\n      <td>M</td>\n      <td>M</td>\n      <td>W</td>\n      <td>M</td>\n      <td>M</td>\n      <td>M</td>\n      <td>M</td>\n      <td>4.0</td>\n      <td>19.0</td>\n      <td>2</td>\n    </tr>\n    <tr>\n      <th>11</th>\n      <td>21/08/10</td>\n      <td>Birmingham</td>\n      <td>Blackburn</td>\n      <td>2.0</td>\n      <td>1.0</td>\n      <td>H</td>\n      <td>2.0</td>\n      <td>1.0</td>\n      <td>2.0</td>\n      <td>1.0</td>\n      <td>...</td>\n      <td>M</td>\n      <td>M</td>\n      <td>W</td>\n      <td>M</td>\n      <td>M</td>\n      <td>M</td>\n      <td>M</td>\n      <td>18.0</td>\n      <td>15.0</td>\n      <td>2</td>\n    </tr>\n    <tr>\n      <th>12</th>\n      <td>21/08/10</td>\n      <td>Everton</td>\n      <td>Wolves</td>\n      <td>1.0</td>\n      <td>1.0</td>\n      <td>D</td>\n      <td>1.0</td>\n      <td>2.0</td>\n      <td>1.0</td>\n      <td>2.0</td>\n      <td>...</td>\n      <td>M</td>\n      <td>M</td>\n      <td>W</td>\n      <td>M</td>\n      <td>M</td>\n      <td>M</td>\n      <td>M</td>\n      <td>7.0</td>\n      <td>17.0</td>\n      <td>2</td>\n    </tr>\n    <tr>\n      <th>13</th>\n      <td>21/08/10</td>\n      <td>Stoke</td>\n      <td>Tottenham</td>\n      <td>1.0</td>\n      <td>2.0</td>\n      <td>A</td>\n      <td>1.0</td>\n      <td>0.0</td>\n      <td>1.0</td>\n      <td>0.0</td>\n      <td>...</td>\n      <td>M</td>\n      <td>M</td>\n      <td>D</td>\n      <td>M</td>\n      <td>M</td>\n      <td>M</td>\n      <td>M</td>\n      <td>13.0</td>\n      <td>5.0</td>\n      <td>2</td>\n    </tr>\n    <tr>\n      <th>14</th>\n      <td>21/08/10</td>\n      <td>West Brom</td>\n      <td>Sunderland</td>\n      <td>1.0</td>\n      <td>0.0</td>\n      <td>H</td>\n      <td>1.0</td>\n      <td>2.0</td>\n      <td>1.0</td>\n      <td>2.0</td>\n      <td>...</td>\n      <td>M</td>\n      <td>M</td>\n      <td>D</td>\n      <td>M</td>\n      <td>M</td>\n      <td>M</td>\n      <td>M</td>\n      <td>11.0</td>\n      <td>10.0</td>\n      <td>2</td>\n    </tr>\n    <tr>\n      <th>15</th>\n      <td>21/08/10</td>\n      <td>West Ham</td>\n      <td>Bolton</td>\n      <td>1.0</td>\n      <td>3.0</td>\n      <td>A</td>\n      <td>1.0</td>\n      <td>0.0</td>\n      <td>1.0</td>\n      <td>0.0</td>\n      <td>...</td>\n      <td>M</td>\n      <td>M</td>\n      <td>D</td>\n      <td>M</td>\n      <td>M</td>\n      <td>M</td>\n      <td>M</td>\n      <td>20.0</td>\n      <td>14.0</td>\n      <td>2</td>\n    </tr>\n    <tr>\n      <th>16</th>\n      <td>21/08/10</td>\n      <td>Wigan</td>\n      <td>Chelsea</td>\n      <td>0.0</td>\n      <td>6.0</td>\n      <td>A</td>\n      <td>0.0</td>\n      <td>6.0</td>\n      <td>0.0</td>\n      <td>6.0</td>\n      <td>...</td>\n      <td>M</td>\n      <td>M</td>\n      <td>W</td>\n      <td>M</td>\n      <td>M</td>\n      <td>M</td>\n      <td>M</td>\n      <td>16.0</td>\n      <td>2.0</td>\n      <td>2</td>\n    </tr>\n    <tr>\n      <th>17</th>\n      <td>22/08/10</td>\n      <td>Fulham</td>\n      <td>Man United</td>\n      <td>2.0</td>\n      <td>2.0</td>\n      <td>D</td>\n      <td>2.0</td>\n      <td>3.0</td>\n      <td>2.0</td>\n      <td>3.0</td>\n      <td>...</td>\n      <td>M</td>\n      <td>M</td>\n      <td>W</td>\n      <td>M</td>\n      <td>M</td>\n      <td>M</td>\n      <td>M</td>\n      <td>8.0</td>\n      <td>1.0</td>\n      <td>2</td>\n    </tr>\n    <tr>\n      <th>18</th>\n      <td>22/08/10</td>\n      <td>Newcastle</td>\n      <td>Aston Villa</td>\n      <td>6.0</td>\n      <td>0.0</td>\n      <td>H</td>\n      <td>6.0</td>\n      <td>3.0</td>\n      <td>6.0</td>\n      <td>3.0</td>\n      <td>...</td>\n      <td>M</td>\n      <td>M</td>\n      <td>W</td>\n      <td>M</td>\n      <td>M</td>\n      <td>M</td>\n      <td>M</td>\n      <td>12.0</td>\n      <td>9.0</td>\n      <td>2</td>\n    </tr>\n    <tr>\n      <th>19</th>\n      <td>23/08/10</td>\n      <td>Man City</td>\n      <td>Liverpool</td>\n      <td>3.0</td>\n      <td>0.0</td>\n      <td>H</td>\n      <td>3.0</td>\n      <td>1.0</td>\n      <td>3.0</td>\n      <td>1.0</td>\n      <td>...</td>\n      <td>M</td>\n      <td>M</td>\n      <td>D</td>\n      <td>M</td>\n      <td>M</td>\n      <td>M</td>\n      <td>M</td>\n      <td>3.0</td>\n      <td>6.0</td>\n      <td>2</td>\n    </tr>\n    <tr>\n      <th>20</th>\n      <td>28/08/10</td>\n      <td>Blackburn</td>\n      <td>Arsenal</td>\n      <td>1.0</td>\n      <td>2.0</td>\n      <td>A</td>\n      <td>1.0</td>\n      <td>6.0</td>\n      <td>1.0</td>\n      <td>6.0</td>\n      <td>...</td>\n      <td>M</td>\n      <td>M</td>\n      <td>W</td>\n      <td>D</td>\n      <td>M</td>\n      <td>M</td>\n      <td>M</td>\n      <td>15.0</td>\n      <td>4.0</td>\n      <td>3</td>\n    </tr>\n    <tr>\n      <th>21</th>\n      <td>28/08/10</td>\n      <td>Blackpool</td>\n      <td>Fulham</td>\n      <td>2.0</td>\n      <td>2.0</td>\n      <td>D</td>\n      <td>4.0</td>\n      <td>4.0</td>\n      <td>4.0</td>\n      <td>4.0</td>\n      <td>...</td>\n      <td>M</td>\n      <td>M</td>\n      <td>D</td>\n      <td>D</td>\n      <td>M</td>\n      <td>M</td>\n      <td>M</td>\n      <td>19.0</td>\n      <td>8.0</td>\n      <td>3</td>\n    </tr>\n    <tr>\n      <th>22</th>\n      <td>28/08/10</td>\n      <td>Chelsea</td>\n      <td>Stoke</td>\n      <td>2.0</td>\n      <td>0.0</td>\n      <td>H</td>\n      <td>6.0</td>\n      <td>3.0</td>\n      <td>6.0</td>\n      <td>3.0</td>\n      <td>...</td>\n      <td>M</td>\n      <td>M</td>\n      <td>L</td>\n      <td>L</td>\n      <td>M</td>\n      <td>M</td>\n      <td>M</td>\n      <td>2.0</td>\n      <td>13.0</td>\n      <td>3</td>\n    </tr>\n    <tr>\n      <th>23</th>\n      <td>28/08/10</td>\n      <td>Man United</td>\n      <td>West Ham</td>\n      <td>3.0</td>\n      <td>0.0</td>\n      <td>H</td>\n      <td>3.0</td>\n      <td>4.0</td>\n      <td>3.0</td>\n      <td>4.0</td>\n      <td>...</td>\n      <td>M</td>\n      <td>M</td>\n      <td>L</td>\n      <td>L</td>\n      <td>M</td>\n      <td>M</td>\n      <td>M</td>\n      <td>1.0</td>\n      <td>20.0</td>\n      <td>3</td>\n    </tr>\n    <tr>\n      <th>24</th>\n      <td>28/08/10</td>\n      <td>Tottenham</td>\n      <td>Wigan</td>\n      <td>0.0</td>\n      <td>1.0</td>\n      <td>A</td>\n      <td>0.0</td>\n      <td>4.0</td>\n      <td>0.0</td>\n      <td>4.0</td>\n      <td>...</td>\n      <td>M</td>\n      <td>M</td>\n      <td>L</td>\n      <td>L</td>\n      <td>M</td>\n      <td>M</td>\n      <td>M</td>\n      <td>5.0</td>\n      <td>16.0</td>\n      <td>3</td>\n    </tr>\n    <tr>\n      <th>25</th>\n      <td>28/08/10</td>\n      <td>Wolves</td>\n      <td>Newcastle</td>\n      <td>1.0</td>\n      <td>1.0</td>\n      <td>D</td>\n      <td>3.0</td>\n      <td>6.0</td>\n      <td>3.0</td>\n      <td>6.0</td>\n      <td>...</td>\n      <td>M</td>\n      <td>M</td>\n      <td>W</td>\n      <td>L</td>\n      <td>M</td>\n      <td>M</td>\n      <td>M</td>\n      <td>17.0</td>\n      <td>12.0</td>\n      <td>3</td>\n    </tr>\n    <tr>\n      <th>26</th>\n      <td>29/08/10</td>\n      <td>Aston Villa</td>\n      <td>Everton</td>\n      <td>1.0</td>\n      <td>0.0</td>\n      <td>H</td>\n      <td>3.0</td>\n      <td>2.0</td>\n      <td>3.0</td>\n      <td>2.0</td>\n      <td>...</td>\n      <td>M</td>\n      <td>M</td>\n      <td>D</td>\n      <td>L</td>\n      <td>M</td>\n      <td>M</td>\n      <td>M</td>\n      <td>9.0</td>\n      <td>7.0</td>\n      <td>3</td>\n    </tr>\n    <tr>\n      <th>27</th>\n      <td>29/08/10</td>\n      <td>Bolton</td>\n      <td>Birmingham</td>\n      <td>2.0</td>\n      <td>2.0</td>\n      <td>D</td>\n      <td>0.0</td>\n      <td>3.0</td>\n      <td>0.0</td>\n      <td>3.0</td>\n      <td>...</td>\n      <td>M</td>\n      <td>M</td>\n      <td>W</td>\n      <td>D</td>\n      <td>M</td>\n      <td>M</td>\n      <td>M</td>\n      <td>14.0</td>\n      <td>18.0</td>\n      <td>3</td>\n    </tr>\n    <tr>\n      <th>28</th>\n      <td>29/08/10</td>\n      <td>Liverpool</td>\n      <td>West Brom</td>\n      <td>1.0</td>\n      <td>0.0</td>\n      <td>H</td>\n      <td>2.0</td>\n      <td>1.0</td>\n      <td>2.0</td>\n      <td>1.0</td>\n      <td>...</td>\n      <td>M</td>\n      <td>M</td>\n      <td>W</td>\n      <td>L</td>\n      <td>M</td>\n      <td>M</td>\n      <td>M</td>\n      <td>6.0</td>\n      <td>11.0</td>\n      <td>3</td>\n    </tr>\n    <tr>\n      <th>29</th>\n      <td>29/08/10</td>\n      <td>Sunderland</td>\n      <td>Man City</td>\n      <td>1.0</td>\n      <td>0.0</td>\n      <td>H</td>\n      <td>4.0</td>\n      <td>3.0</td>\n      <td>4.0</td>\n      <td>3.0</td>\n      <td>...</td>\n      <td>M</td>\n      <td>M</td>\n      <td>W</td>\n      <td>D</td>\n      <td>M</td>\n      <td>M</td>\n      <td>M</td>\n      <td>10.0</td>\n      <td>3.0</td>\n      <td>3</td>\n    </tr>\n    <tr>\n      <th>30</th>\n      <td>11/09/10</td>\n      <td>Arsenal</td>\n      <td>Bolton</td>\n      <td>4.0</td>\n      <td>1.0</td>\n      <td>H</td>\n      <td>10.0</td>\n      <td>2.0</td>\n      <td>10.0</td>\n      <td>2.0</td>\n      <td>...</td>\n      <td>M</td>\n      <td>M</td>\n      <td>D</td>\n      <td>W</td>\n      <td>D</td>\n      <td>M</td>\n      <td>M</td>\n      <td>4.0</td>\n      <td>14.0</td>\n      <td>4</td>\n    </tr>\n    <tr>\n      <th>31</th>\n      <td>11/09/10</td>\n      <td>Everton</td>\n      <td>Man United</td>\n      <td>3.0</td>\n      <td>3.0</td>\n      <td>D</td>\n      <td>5.0</td>\n      <td>6.0</td>\n      <td>5.0</td>\n      <td>6.0</td>\n      <td>...</td>\n      <td>M</td>\n      <td>M</td>\n      <td>W</td>\n      <td>D</td>\n      <td>W</td>\n      <td>M</td>\n      <td>M</td>\n      <td>7.0</td>\n      <td>1.0</td>\n      <td>4</td>\n    </tr>\n    <tr>\n      <th>32</th>\n      <td>11/09/10</td>\n      <td>Fulham</td>\n      <td>Wolves</td>\n      <td>2.0</td>\n      <td>1.0</td>\n      <td>H</td>\n      <td>6.0</td>\n      <td>4.0</td>\n      <td>6.0</td>\n      <td>4.0</td>\n      <td>...</td>\n      <td>M</td>\n      <td>M</td>\n      <td>D</td>\n      <td>D</td>\n      <td>W</td>\n      <td>M</td>\n      <td>M</td>\n      <td>8.0</td>\n      <td>17.0</td>\n      <td>4</td>\n    </tr>\n    <tr>\n      <th>33</th>\n      <td>11/09/10</td>\n      <td>Man City</td>\n      <td>Blackburn</td>\n      <td>1.0</td>\n      <td>1.0</td>\n      <td>D</td>\n      <td>4.0</td>\n      <td>2.0</td>\n      <td>4.0</td>\n      <td>2.0</td>\n      <td>...</td>\n      <td>M</td>\n      <td>M</td>\n      <td>L</td>\n      <td>L</td>\n      <td>W</td>\n      <td>M</td>\n      <td>M</td>\n      <td>3.0</td>\n      <td>15.0</td>\n      <td>4</td>\n    </tr>\n    <tr>\n      <th>34</th>\n      <td>11/09/10</td>\n      <td>Newcastle</td>\n      <td>Blackpool</td>\n      <td>0.0</td>\n      <td>2.0</td>\n      <td>A</td>\n      <td>6.0</td>\n      <td>5.0</td>\n      <td>6.0</td>\n      <td>5.0</td>\n      <td>...</td>\n      <td>M</td>\n      <td>M</td>\n      <td>D</td>\n      <td>L</td>\n      <td>W</td>\n      <td>M</td>\n      <td>M</td>\n      <td>12.0</td>\n      <td>19.0</td>\n      <td>4</td>\n    </tr>\n    <tr>\n      <th>35</th>\n      <td>11/09/10</td>\n      <td>West Brom</td>\n      <td>Tottenham</td>\n      <td>1.0</td>\n      <td>1.0</td>\n      <td>D</td>\n      <td>2.0</td>\n      <td>0.0</td>\n      <td>2.0</td>\n      <td>0.0</td>\n      <td>...</td>\n      <td>M</td>\n      <td>M</td>\n      <td>L</td>\n      <td>W</td>\n      <td>D</td>\n      <td>M</td>\n      <td>M</td>\n      <td>11.0</td>\n      <td>5.0</td>\n      <td>4</td>\n    </tr>\n    <tr>\n      <th>36</th>\n      <td>11/09/10</td>\n      <td>West Ham</td>\n      <td>Chelsea</td>\n      <td>1.0</td>\n      <td>3.0</td>\n      <td>A</td>\n      <td>5.0</td>\n      <td>8.0</td>\n      <td>5.0</td>\n      <td>8.0</td>\n      <td>...</td>\n      <td>M</td>\n      <td>M</td>\n      <td>W</td>\n      <td>W</td>\n      <td>W</td>\n      <td>M</td>\n      <td>M</td>\n      <td>20.0</td>\n      <td>2.0</td>\n      <td>4</td>\n    </tr>\n    <tr>\n      <th>37</th>\n      <td>11/09/10</td>\n      <td>Wigan</td>\n      <td>Sunderland</td>\n      <td>1.0</td>\n      <td>1.0</td>\n      <td>D</td>\n      <td>4.0</td>\n      <td>5.0</td>\n      <td>4.0</td>\n      <td>5.0</td>\n      <td>...</td>\n      <td>M</td>\n      <td>M</td>\n      <td>W</td>\n      <td>L</td>\n      <td>D</td>\n      <td>M</td>\n      <td>M</td>\n      <td>16.0</td>\n      <td>10.0</td>\n      <td>4</td>\n    </tr>\n    <tr>\n      <th>38</th>\n      <td>12/09/10</td>\n      <td>Birmingham</td>\n      <td>Liverpool</td>\n      <td>0.0</td>\n      <td>0.0</td>\n      <td>D</td>\n      <td>3.0</td>\n      <td>3.0</td>\n      <td>3.0</td>\n      <td>3.0</td>\n      <td>...</td>\n      <td>M</td>\n      <td>M</td>\n      <td>W</td>\n      <td>L</td>\n      <td>D</td>\n      <td>M</td>\n      <td>M</td>\n      <td>18.0</td>\n      <td>6.0</td>\n      <td>4</td>\n    </tr>\n    <tr>\n      <th>39</th>\n      <td>13/09/10</td>\n      <td>Stoke</td>\n      <td>Aston Villa</td>\n      <td>2.0</td>\n      <td>1.0</td>\n      <td>H</td>\n      <td>5.0</td>\n      <td>4.0</td>\n      <td>5.0</td>\n      <td>4.0</td>\n      <td>...</td>\n      <td>M</td>\n      <td>M</td>\n      <td>W</td>\n      <td>L</td>\n      <td>W</td>\n      <td>M</td>\n      <td>M</td>\n      <td>13.0</td>\n      <td>9.0</td>\n      <td>4</td>\n    </tr>\n  </tbody>\n</table>\n<p>40 rows × 25 columns</p>\n</div>"
     },
     "metadata": {},
     "execution_count": 36
    }
   ],
   "source": [
    "playing_stat.head(40)"
   ]
  },
  {
   "cell_type": "code",
   "execution_count": 37,
   "metadata": {},
   "outputs": [],
   "source": [
    "playing_stat.to_csv(\"./data/PremierLeague/v1_dataset.csv\",index=None)"
   ]
  },
  {
   "cell_type": "code",
   "execution_count": 38,
   "metadata": {},
   "outputs": [],
   "source": [
    "def get_form_points(string):\n",
    "    sum = 0\n",
    "    for letter in string:\n",
    "        sum += get_points(letter)\n",
    "    return sum\n",
    "\n",
    "playing_stat['HTFormPtsStr'] = playing_stat['HM1'] + playing_stat['HM2'] + playing_stat['HM3'] + playing_stat['HM4'] + playing_stat['HM5']\n",
    "playing_stat['ATFormPtsStr'] = playing_stat['AM1'] + playing_stat['AM2'] + playing_stat['AM3'] + playing_stat['AM4'] + playing_stat['AM5']\n",
    "\n",
    "playing_stat['HTFormPts'] = playing_stat['HTFormPtsStr'].apply(get_form_points)\n",
    "playing_stat['ATFormPts'] = playing_stat['ATFormPtsStr'].apply(get_form_points)"
   ]
  },
  {
   "cell_type": "code",
   "execution_count": 39,
   "metadata": {},
   "outputs": [],
   "source": [
    "def get_3game_ws(string):\n",
    "    if string[-3:] == 'WWW':\n",
    "        return 1\n",
    "    else:\n",
    "        return 0"
   ]
  },
  {
   "cell_type": "code",
   "execution_count": 40,
   "metadata": {},
   "outputs": [],
   "source": [
    "def get_5game_ws(string):\n",
    "    if string == 'WWWWW':\n",
    "        return 1\n",
    "    else:\n",
    "        return 0\n",
    "    \n",
    "def get_3game_ls(string):\n",
    "    if string[-3:] == 'LLL':\n",
    "        return 1\n",
    "    else:\n",
    "        return 0\n",
    "    \n",
    "def get_5game_ls(string):\n",
    "    if string == 'LLLLL':\n",
    "        return 1\n",
    "    else:\n",
    "        return 0\n",
    "    "
   ]
  },
  {
   "cell_type": "code",
   "execution_count": 41,
   "metadata": {},
   "outputs": [
    {
     "output_type": "execute_result",
     "data": {
      "text/plain": "Index(['Date', 'HomeTeam', 'AwayTeam', 'FTHG', 'FTAG', 'FTR', 'HTGS', 'ATGS',\n       'HTGC', 'ATGC', 'HTP', 'ATP', 'HM1', 'HM2', 'HM3', 'HM4', 'HM5', 'AM1',\n       'AM2', 'AM3', 'AM4', 'AM5', 'HomeTeamLP', 'AwayTeamLP', 'MW',\n       'HTFormPtsStr', 'ATFormPtsStr', 'HTFormPts', 'ATFormPts',\n       'HTWinStreak3', 'HTWinStreak5', 'HTLossStreak3', 'HTLossStreak5',\n       'ATWinStreak3', 'ATWinStreak5', 'ATLossStreak3', 'ATLossStreak5'],\n      dtype='object')"
     },
     "metadata": {},
     "execution_count": 41
    }
   ],
   "source": [
    "playing_stat['HTWinStreak3'] = playing_stat['HTFormPtsStr'].apply(get_3game_ws)\n",
    "playing_stat['HTWinStreak5'] = playing_stat['HTFormPtsStr'].apply(get_5game_ws)\n",
    "playing_stat['HTLossStreak3'] = playing_stat['HTFormPtsStr'].apply(get_3game_ls)\n",
    "playing_stat['HTLossStreak5'] = playing_stat['HTFormPtsStr'].apply(get_5game_ls)\n",
    "\n",
    "playing_stat['ATWinStreak3'] = playing_stat['ATFormPtsStr'].apply(get_3game_ws)\n",
    "playing_stat['ATWinStreak5'] = playing_stat['ATFormPtsStr'].apply(get_5game_ws)\n",
    "playing_stat['ATLossStreak3'] = playing_stat['ATFormPtsStr'].apply(get_3game_ls)\n",
    "playing_stat['ATLossStreak5'] = playing_stat['ATFormPtsStr'].apply(get_5game_ls)\n",
    "\n",
    "playing_stat.keys()"
   ]
  },
  {
   "cell_type": "code",
   "execution_count": 42,
   "metadata": {},
   "outputs": [],
   "source": [
    "playing_stat['HTGD'] = playing_stat['HTGS'] - playing_stat['HTGC']\n",
    "playing_stat['ATGD'] = playing_stat['ATGS'] - playing_stat['ATGC']\n",
    "\n",
    "playing_stat['DiffPts'] = playing_stat['HTP'] - playing_stat['ATP']\n",
    "playing_stat['DiffFormPts'] = playing_stat['HTFormPts'] - playing_stat['ATFormPts']\n",
    "\n",
    "playing_stat['DiffLP'] = playing_stat['HomeTeamLP'] - playing_stat['AwayTeamLP']"
   ]
  },
  {
   "cell_type": "code",
   "execution_count": 43,
   "metadata": {},
   "outputs": [
    {
     "output_type": "execute_result",
     "data": {
      "text/plain": "        Date     HomeTeam     AwayTeam  FTHG  FTAG FTR  HTGS  ATGS  HTGC  \\\n0   14/08/10  Aston Villa     West Ham   3.0   0.0   H   0.0   0.0   0.0   \n1   14/08/10    Blackburn      Everton   1.0   0.0   H   0.0   0.0   0.0   \n2   14/08/10       Bolton       Fulham   0.0   0.0   D   0.0   0.0   0.0   \n3   14/08/10      Chelsea    West Brom   6.0   0.0   H   0.0   0.0   0.0   \n4   14/08/10   Sunderland   Birmingham   2.0   2.0   D   0.0   0.0   0.0   \n5   14/08/10    Tottenham     Man City   0.0   0.0   D   0.0   0.0   0.0   \n6   14/08/10        Wigan    Blackpool   0.0   4.0   A   0.0   0.0   0.0   \n7   14/08/10       Wolves        Stoke   2.0   1.0   H   0.0   0.0   0.0   \n8   15/08/10    Liverpool      Arsenal   1.0   1.0   D   0.0   0.0   0.0   \n9   16/08/10   Man United    Newcastle   3.0   0.0   H   0.0   0.0   0.0   \n10  21/08/10      Arsenal    Blackpool   6.0   0.0   H   6.0   2.0   6.0   \n11  21/08/10   Birmingham    Blackburn   2.0   1.0   H   2.0   1.0   2.0   \n12  21/08/10      Everton       Wolves   1.0   1.0   D   1.0   2.0   1.0   \n13  21/08/10        Stoke    Tottenham   1.0   2.0   A   1.0   0.0   1.0   \n14  21/08/10    West Brom   Sunderland   1.0   0.0   H   1.0   2.0   1.0   \n15  21/08/10     West Ham       Bolton   1.0   3.0   A   1.0   0.0   1.0   \n16  21/08/10        Wigan      Chelsea   0.0   6.0   A   0.0   6.0   0.0   \n17  22/08/10       Fulham   Man United   2.0   2.0   D   2.0   3.0   2.0   \n18  22/08/10    Newcastle  Aston Villa   6.0   0.0   H   6.0   3.0   6.0   \n19  23/08/10     Man City    Liverpool   3.0   0.0   H   3.0   1.0   3.0   \n20  28/08/10    Blackburn      Arsenal   1.0   2.0   A   1.0   6.0   1.0   \n21  28/08/10    Blackpool       Fulham   2.0   2.0   D   4.0   4.0   4.0   \n22  28/08/10      Chelsea        Stoke   2.0   0.0   H   6.0   3.0   6.0   \n23  28/08/10   Man United     West Ham   3.0   0.0   H   3.0   4.0   3.0   \n24  28/08/10    Tottenham        Wigan   0.0   1.0   A   0.0   4.0   0.0   \n25  28/08/10       Wolves    Newcastle   1.0   1.0   D   3.0   6.0   3.0   \n26  29/08/10  Aston Villa      Everton   1.0   0.0   H   3.0   2.0   3.0   \n27  29/08/10       Bolton   Birmingham   2.0   2.0   D   0.0   3.0   0.0   \n28  29/08/10    Liverpool    West Brom   1.0   0.0   H   2.0   1.0   2.0   \n29  29/08/10   Sunderland     Man City   1.0   0.0   H   4.0   3.0   4.0   \n30  11/09/10      Arsenal       Bolton   4.0   1.0   H  10.0   2.0  10.0   \n31  11/09/10      Everton   Man United   3.0   3.0   D   5.0   6.0   5.0   \n32  11/09/10       Fulham       Wolves   2.0   1.0   H   6.0   4.0   6.0   \n33  11/09/10     Man City    Blackburn   1.0   1.0   D   4.0   2.0   4.0   \n34  11/09/10    Newcastle    Blackpool   0.0   2.0   A   6.0   5.0   6.0   \n35  11/09/10    West Brom    Tottenham   1.0   1.0   D   2.0   0.0   2.0   \n36  11/09/10     West Ham      Chelsea   1.0   3.0   A   5.0   8.0   5.0   \n37  11/09/10        Wigan   Sunderland   1.0   1.0   D   4.0   5.0   4.0   \n38  12/09/10   Birmingham    Liverpool   0.0   0.0   D   3.0   3.0   3.0   \n39  13/09/10        Stoke  Aston Villa   2.0   1.0   H   5.0   4.0   5.0   \n40  18/09/10  Aston Villa       Bolton   1.0   1.0   D   4.0   4.0   4.0   \n41  18/09/10    Blackburn       Fulham   1.0   1.0   D   4.0   7.0   4.0   \n42  18/09/10      Everton    Newcastle   0.0   1.0   A   8.0   8.0   8.0   \n43  18/09/10        Stoke     West Ham   1.0   1.0   D   6.0   8.0   6.0   \n44  18/09/10   Sunderland      Arsenal   1.0   1.0   D   5.0  11.0   5.0   \n45  18/09/10    Tottenham       Wolves   3.0   1.0   H   1.0   5.0   1.0   \n46  18/09/10    West Brom   Birmingham   3.0   1.0   H   3.0   3.0   3.0   \n47  19/09/10      Chelsea    Blackpool   4.0   0.0   H   8.0   7.0   8.0   \n48  19/09/10   Man United    Liverpool   3.0   2.0   H   6.0   3.0   6.0   \n49  19/09/10        Wigan     Man City   0.0   2.0   A  10.0   5.0  10.0   \n\n    ATGC  ...  HTLossStreak5  ATWinStreak3 ATWinStreak5 ATLossStreak3  \\\n0    0.0  ...              0             0            0             0   \n1    0.0  ...              0             0            0             0   \n2    0.0  ...              0             0            0             0   \n3    0.0  ...              0             0            0             0   \n4    0.0  ...              0             0            0             0   \n5    0.0  ...              0             0            0             0   \n6    0.0  ...              0             0            0             0   \n7    0.0  ...              0             0            0             0   \n8    0.0  ...              0             0            0             0   \n9    0.0  ...              0             0            0             0   \n10   2.0  ...              0             0            0             0   \n11   1.0  ...              0             0            0             0   \n12   2.0  ...              0             0            0             0   \n13   0.0  ...              0             0            0             0   \n14   2.0  ...              0             0            0             0   \n15   0.0  ...              0             0            0             0   \n16   6.0  ...              0             0            0             0   \n17   3.0  ...              0             0            0             0   \n18   3.0  ...              0             0            0             0   \n19   1.0  ...              0             0            0             0   \n20   6.0  ...              0             0            0             0   \n21   4.0  ...              0             0            0             0   \n22   3.0  ...              0             0            0             0   \n23   4.0  ...              0             0            0             0   \n24   4.0  ...              0             0            0             0   \n25   6.0  ...              0             0            0             0   \n26   2.0  ...              0             0            0             0   \n27   3.0  ...              0             0            0             0   \n28   1.0  ...              0             0            0             0   \n29   3.0  ...              0             0            0             0   \n30   2.0  ...              0             0            0             0   \n31   6.0  ...              0             0            0             0   \n32   4.0  ...              0             0            0             0   \n33   2.0  ...              0             0            0             0   \n34   5.0  ...              0             0            0             0   \n35   0.0  ...              0             0            0             0   \n36   8.0  ...              0             0            0             0   \n37   5.0  ...              0             0            0             0   \n38   3.0  ...              0             0            0             0   \n39   4.0  ...              0             0            0             0   \n40   4.0  ...              0             0            0             0   \n41   7.0  ...              0             0            0             0   \n42   8.0  ...              0             0            0             0   \n43   8.0  ...              0             0            0             0   \n44  11.0  ...              0             0            0             0   \n45   5.0  ...              0             0            0             0   \n46   3.0  ...              0             0            0             0   \n47   7.0  ...              0             0            0             0   \n48   3.0  ...              0             0            0             0   \n49   5.0  ...              0             0            0             0   \n\n   ATLossStreak5 HTGD ATGD DiffPts DiffFormPts DiffLP  \n0              0  0.0  0.0       0           0  -11.0  \n1              0  0.0  0.0       0           0    8.0  \n2              0  0.0  0.0       0           0    6.0  \n3              0  0.0  0.0       0           0   -9.0  \n4              0  0.0  0.0       0           0   -8.0  \n5              0  0.0  0.0       0           0    2.0  \n6              0  0.0  0.0       0           0   -3.0  \n7              0  0.0  0.0       0           0    4.0  \n8              0  0.0  0.0       0           0    2.0  \n9              0  0.0  0.0       0           0  -11.0  \n10             0  0.0  0.0      -2          -2  -15.0  \n11             0  0.0  0.0      -2          -2    3.0  \n12             0  0.0  0.0      -3          -3  -10.0  \n13             0  0.0  0.0      -1          -1    8.0  \n14             0  0.0  0.0      -1          -1    1.0  \n15             0  0.0  0.0      -1          -1    6.0  \n16             0  0.0  0.0      -3          -3   14.0  \n17             0  0.0  0.0      -2          -2    7.0  \n18             0  0.0  0.0      -3          -3    3.0  \n19             0  0.0  0.0       0           0   -3.0  \n20             0  0.0  0.0      -1          -1   11.0  \n21             0  0.0  0.0       1           1   11.0  \n22             0  0.0  0.0       6           6  -11.0  \n23             0  0.0  0.0       4           4  -19.0  \n24             0  0.0  0.0       4           4  -11.0  \n25             0  0.0  0.0       1           1    5.0  \n26             0  0.0  0.0       2           2    2.0  \n27             0  0.0  0.0       0           0   -4.0  \n28             0  0.0  0.0      -2          -2   -5.0  \n29             0  0.0  0.0      -3          -3    7.0  \n30             0  0.0  0.0       2           2  -10.0  \n31             0  0.0  0.0      -6          -6    6.0  \n32             0  0.0  0.0      -2          -2   -9.0  \n33             0  0.0  0.0       1           1  -12.0  \n34             0  0.0  0.0       0           0   -7.0  \n35             0  0.0  0.0      -1          -1    6.0  \n36             0  0.0  0.0      -9          -9   18.0  \n37             0  0.0  0.0      -1          -1    6.0  \n38             0  0.0  0.0       1           1   12.0  \n39             0  0.0  0.0      -6          -6    4.0  \n40             0  0.0  0.0       1           1   -5.0  \n41             0  0.0  0.0      -2          -2    7.0  \n42             0  0.0  0.0      -2          -2   -5.0  \n43             0  0.0  0.0       3           3   -7.0  \n44             0  0.0  0.0      -5          -5    6.0  \n45             0  0.0  0.0       0           0  -12.0  \n46             0  0.0  0.0      -2          -2   -7.0  \n47             0  0.0  0.0       5           5  -17.0  \n48             0  0.0  0.0       3           3   -5.0  \n49             0  0.0  0.0      -1          -1   13.0  \n\n[50 rows x 42 columns]",
      "text/html": "<div>\n<style scoped>\n    .dataframe tbody tr th:only-of-type {\n        vertical-align: middle;\n    }\n\n    .dataframe tbody tr th {\n        vertical-align: top;\n    }\n\n    .dataframe thead th {\n        text-align: right;\n    }\n</style>\n<table border=\"1\" class=\"dataframe\">\n  <thead>\n    <tr style=\"text-align: right;\">\n      <th></th>\n      <th>Date</th>\n      <th>HomeTeam</th>\n      <th>AwayTeam</th>\n      <th>FTHG</th>\n      <th>FTAG</th>\n      <th>FTR</th>\n      <th>HTGS</th>\n      <th>ATGS</th>\n      <th>HTGC</th>\n      <th>ATGC</th>\n      <th>...</th>\n      <th>HTLossStreak5</th>\n      <th>ATWinStreak3</th>\n      <th>ATWinStreak5</th>\n      <th>ATLossStreak3</th>\n      <th>ATLossStreak5</th>\n      <th>HTGD</th>\n      <th>ATGD</th>\n      <th>DiffPts</th>\n      <th>DiffFormPts</th>\n      <th>DiffLP</th>\n    </tr>\n  </thead>\n  <tbody>\n    <tr>\n      <th>0</th>\n      <td>14/08/10</td>\n      <td>Aston Villa</td>\n      <td>West Ham</td>\n      <td>3.0</td>\n      <td>0.0</td>\n      <td>H</td>\n      <td>0.0</td>\n      <td>0.0</td>\n      <td>0.0</td>\n      <td>0.0</td>\n      <td>...</td>\n      <td>0</td>\n      <td>0</td>\n      <td>0</td>\n      <td>0</td>\n      <td>0</td>\n      <td>0.0</td>\n      <td>0.0</td>\n      <td>0</td>\n      <td>0</td>\n      <td>-11.0</td>\n    </tr>\n    <tr>\n      <th>1</th>\n      <td>14/08/10</td>\n      <td>Blackburn</td>\n      <td>Everton</td>\n      <td>1.0</td>\n      <td>0.0</td>\n      <td>H</td>\n      <td>0.0</td>\n      <td>0.0</td>\n      <td>0.0</td>\n      <td>0.0</td>\n      <td>...</td>\n      <td>0</td>\n      <td>0</td>\n      <td>0</td>\n      <td>0</td>\n      <td>0</td>\n      <td>0.0</td>\n      <td>0.0</td>\n      <td>0</td>\n      <td>0</td>\n      <td>8.0</td>\n    </tr>\n    <tr>\n      <th>2</th>\n      <td>14/08/10</td>\n      <td>Bolton</td>\n      <td>Fulham</td>\n      <td>0.0</td>\n      <td>0.0</td>\n      <td>D</td>\n      <td>0.0</td>\n      <td>0.0</td>\n      <td>0.0</td>\n      <td>0.0</td>\n      <td>...</td>\n      <td>0</td>\n      <td>0</td>\n      <td>0</td>\n      <td>0</td>\n      <td>0</td>\n      <td>0.0</td>\n      <td>0.0</td>\n      <td>0</td>\n      <td>0</td>\n      <td>6.0</td>\n    </tr>\n    <tr>\n      <th>3</th>\n      <td>14/08/10</td>\n      <td>Chelsea</td>\n      <td>West Brom</td>\n      <td>6.0</td>\n      <td>0.0</td>\n      <td>H</td>\n      <td>0.0</td>\n      <td>0.0</td>\n      <td>0.0</td>\n      <td>0.0</td>\n      <td>...</td>\n      <td>0</td>\n      <td>0</td>\n      <td>0</td>\n      <td>0</td>\n      <td>0</td>\n      <td>0.0</td>\n      <td>0.0</td>\n      <td>0</td>\n      <td>0</td>\n      <td>-9.0</td>\n    </tr>\n    <tr>\n      <th>4</th>\n      <td>14/08/10</td>\n      <td>Sunderland</td>\n      <td>Birmingham</td>\n      <td>2.0</td>\n      <td>2.0</td>\n      <td>D</td>\n      <td>0.0</td>\n      <td>0.0</td>\n      <td>0.0</td>\n      <td>0.0</td>\n      <td>...</td>\n      <td>0</td>\n      <td>0</td>\n      <td>0</td>\n      <td>0</td>\n      <td>0</td>\n      <td>0.0</td>\n      <td>0.0</td>\n      <td>0</td>\n      <td>0</td>\n      <td>-8.0</td>\n    </tr>\n    <tr>\n      <th>5</th>\n      <td>14/08/10</td>\n      <td>Tottenham</td>\n      <td>Man City</td>\n      <td>0.0</td>\n      <td>0.0</td>\n      <td>D</td>\n      <td>0.0</td>\n      <td>0.0</td>\n      <td>0.0</td>\n      <td>0.0</td>\n      <td>...</td>\n      <td>0</td>\n      <td>0</td>\n      <td>0</td>\n      <td>0</td>\n      <td>0</td>\n      <td>0.0</td>\n      <td>0.0</td>\n      <td>0</td>\n      <td>0</td>\n      <td>2.0</td>\n    </tr>\n    <tr>\n      <th>6</th>\n      <td>14/08/10</td>\n      <td>Wigan</td>\n      <td>Blackpool</td>\n      <td>0.0</td>\n      <td>4.0</td>\n      <td>A</td>\n      <td>0.0</td>\n      <td>0.0</td>\n      <td>0.0</td>\n      <td>0.0</td>\n      <td>...</td>\n      <td>0</td>\n      <td>0</td>\n      <td>0</td>\n      <td>0</td>\n      <td>0</td>\n      <td>0.0</td>\n      <td>0.0</td>\n      <td>0</td>\n      <td>0</td>\n      <td>-3.0</td>\n    </tr>\n    <tr>\n      <th>7</th>\n      <td>14/08/10</td>\n      <td>Wolves</td>\n      <td>Stoke</td>\n      <td>2.0</td>\n      <td>1.0</td>\n      <td>H</td>\n      <td>0.0</td>\n      <td>0.0</td>\n      <td>0.0</td>\n      <td>0.0</td>\n      <td>...</td>\n      <td>0</td>\n      <td>0</td>\n      <td>0</td>\n      <td>0</td>\n      <td>0</td>\n      <td>0.0</td>\n      <td>0.0</td>\n      <td>0</td>\n      <td>0</td>\n      <td>4.0</td>\n    </tr>\n    <tr>\n      <th>8</th>\n      <td>15/08/10</td>\n      <td>Liverpool</td>\n      <td>Arsenal</td>\n      <td>1.0</td>\n      <td>1.0</td>\n      <td>D</td>\n      <td>0.0</td>\n      <td>0.0</td>\n      <td>0.0</td>\n      <td>0.0</td>\n      <td>...</td>\n      <td>0</td>\n      <td>0</td>\n      <td>0</td>\n      <td>0</td>\n      <td>0</td>\n      <td>0.0</td>\n      <td>0.0</td>\n      <td>0</td>\n      <td>0</td>\n      <td>2.0</td>\n    </tr>\n    <tr>\n      <th>9</th>\n      <td>16/08/10</td>\n      <td>Man United</td>\n      <td>Newcastle</td>\n      <td>3.0</td>\n      <td>0.0</td>\n      <td>H</td>\n      <td>0.0</td>\n      <td>0.0</td>\n      <td>0.0</td>\n      <td>0.0</td>\n      <td>...</td>\n      <td>0</td>\n      <td>0</td>\n      <td>0</td>\n      <td>0</td>\n      <td>0</td>\n      <td>0.0</td>\n      <td>0.0</td>\n      <td>0</td>\n      <td>0</td>\n      <td>-11.0</td>\n    </tr>\n    <tr>\n      <th>10</th>\n      <td>21/08/10</td>\n      <td>Arsenal</td>\n      <td>Blackpool</td>\n      <td>6.0</td>\n      <td>0.0</td>\n      <td>H</td>\n      <td>6.0</td>\n      <td>2.0</td>\n      <td>6.0</td>\n      <td>2.0</td>\n      <td>...</td>\n      <td>0</td>\n      <td>0</td>\n      <td>0</td>\n      <td>0</td>\n      <td>0</td>\n      <td>0.0</td>\n      <td>0.0</td>\n      <td>-2</td>\n      <td>-2</td>\n      <td>-15.0</td>\n    </tr>\n    <tr>\n      <th>11</th>\n      <td>21/08/10</td>\n      <td>Birmingham</td>\n      <td>Blackburn</td>\n      <td>2.0</td>\n      <td>1.0</td>\n      <td>H</td>\n      <td>2.0</td>\n      <td>1.0</td>\n      <td>2.0</td>\n      <td>1.0</td>\n      <td>...</td>\n      <td>0</td>\n      <td>0</td>\n      <td>0</td>\n      <td>0</td>\n      <td>0</td>\n      <td>0.0</td>\n      <td>0.0</td>\n      <td>-2</td>\n      <td>-2</td>\n      <td>3.0</td>\n    </tr>\n    <tr>\n      <th>12</th>\n      <td>21/08/10</td>\n      <td>Everton</td>\n      <td>Wolves</td>\n      <td>1.0</td>\n      <td>1.0</td>\n      <td>D</td>\n      <td>1.0</td>\n      <td>2.0</td>\n      <td>1.0</td>\n      <td>2.0</td>\n      <td>...</td>\n      <td>0</td>\n      <td>0</td>\n      <td>0</td>\n      <td>0</td>\n      <td>0</td>\n      <td>0.0</td>\n      <td>0.0</td>\n      <td>-3</td>\n      <td>-3</td>\n      <td>-10.0</td>\n    </tr>\n    <tr>\n      <th>13</th>\n      <td>21/08/10</td>\n      <td>Stoke</td>\n      <td>Tottenham</td>\n      <td>1.0</td>\n      <td>2.0</td>\n      <td>A</td>\n      <td>1.0</td>\n      <td>0.0</td>\n      <td>1.0</td>\n      <td>0.0</td>\n      <td>...</td>\n      <td>0</td>\n      <td>0</td>\n      <td>0</td>\n      <td>0</td>\n      <td>0</td>\n      <td>0.0</td>\n      <td>0.0</td>\n      <td>-1</td>\n      <td>-1</td>\n      <td>8.0</td>\n    </tr>\n    <tr>\n      <th>14</th>\n      <td>21/08/10</td>\n      <td>West Brom</td>\n      <td>Sunderland</td>\n      <td>1.0</td>\n      <td>0.0</td>\n      <td>H</td>\n      <td>1.0</td>\n      <td>2.0</td>\n      <td>1.0</td>\n      <td>2.0</td>\n      <td>...</td>\n      <td>0</td>\n      <td>0</td>\n      <td>0</td>\n      <td>0</td>\n      <td>0</td>\n      <td>0.0</td>\n      <td>0.0</td>\n      <td>-1</td>\n      <td>-1</td>\n      <td>1.0</td>\n    </tr>\n    <tr>\n      <th>15</th>\n      <td>21/08/10</td>\n      <td>West Ham</td>\n      <td>Bolton</td>\n      <td>1.0</td>\n      <td>3.0</td>\n      <td>A</td>\n      <td>1.0</td>\n      <td>0.0</td>\n      <td>1.0</td>\n      <td>0.0</td>\n      <td>...</td>\n      <td>0</td>\n      <td>0</td>\n      <td>0</td>\n      <td>0</td>\n      <td>0</td>\n      <td>0.0</td>\n      <td>0.0</td>\n      <td>-1</td>\n      <td>-1</td>\n      <td>6.0</td>\n    </tr>\n    <tr>\n      <th>16</th>\n      <td>21/08/10</td>\n      <td>Wigan</td>\n      <td>Chelsea</td>\n      <td>0.0</td>\n      <td>6.0</td>\n      <td>A</td>\n      <td>0.0</td>\n      <td>6.0</td>\n      <td>0.0</td>\n      <td>6.0</td>\n      <td>...</td>\n      <td>0</td>\n      <td>0</td>\n      <td>0</td>\n      <td>0</td>\n      <td>0</td>\n      <td>0.0</td>\n      <td>0.0</td>\n      <td>-3</td>\n      <td>-3</td>\n      <td>14.0</td>\n    </tr>\n    <tr>\n      <th>17</th>\n      <td>22/08/10</td>\n      <td>Fulham</td>\n      <td>Man United</td>\n      <td>2.0</td>\n      <td>2.0</td>\n      <td>D</td>\n      <td>2.0</td>\n      <td>3.0</td>\n      <td>2.0</td>\n      <td>3.0</td>\n      <td>...</td>\n      <td>0</td>\n      <td>0</td>\n      <td>0</td>\n      <td>0</td>\n      <td>0</td>\n      <td>0.0</td>\n      <td>0.0</td>\n      <td>-2</td>\n      <td>-2</td>\n      <td>7.0</td>\n    </tr>\n    <tr>\n      <th>18</th>\n      <td>22/08/10</td>\n      <td>Newcastle</td>\n      <td>Aston Villa</td>\n      <td>6.0</td>\n      <td>0.0</td>\n      <td>H</td>\n      <td>6.0</td>\n      <td>3.0</td>\n      <td>6.0</td>\n      <td>3.0</td>\n      <td>...</td>\n      <td>0</td>\n      <td>0</td>\n      <td>0</td>\n      <td>0</td>\n      <td>0</td>\n      <td>0.0</td>\n      <td>0.0</td>\n      <td>-3</td>\n      <td>-3</td>\n      <td>3.0</td>\n    </tr>\n    <tr>\n      <th>19</th>\n      <td>23/08/10</td>\n      <td>Man City</td>\n      <td>Liverpool</td>\n      <td>3.0</td>\n      <td>0.0</td>\n      <td>H</td>\n      <td>3.0</td>\n      <td>1.0</td>\n      <td>3.0</td>\n      <td>1.0</td>\n      <td>...</td>\n      <td>0</td>\n      <td>0</td>\n      <td>0</td>\n      <td>0</td>\n      <td>0</td>\n      <td>0.0</td>\n      <td>0.0</td>\n      <td>0</td>\n      <td>0</td>\n      <td>-3.0</td>\n    </tr>\n    <tr>\n      <th>20</th>\n      <td>28/08/10</td>\n      <td>Blackburn</td>\n      <td>Arsenal</td>\n      <td>1.0</td>\n      <td>2.0</td>\n      <td>A</td>\n      <td>1.0</td>\n      <td>6.0</td>\n      <td>1.0</td>\n      <td>6.0</td>\n      <td>...</td>\n      <td>0</td>\n      <td>0</td>\n      <td>0</td>\n      <td>0</td>\n      <td>0</td>\n      <td>0.0</td>\n      <td>0.0</td>\n      <td>-1</td>\n      <td>-1</td>\n      <td>11.0</td>\n    </tr>\n    <tr>\n      <th>21</th>\n      <td>28/08/10</td>\n      <td>Blackpool</td>\n      <td>Fulham</td>\n      <td>2.0</td>\n      <td>2.0</td>\n      <td>D</td>\n      <td>4.0</td>\n      <td>4.0</td>\n      <td>4.0</td>\n      <td>4.0</td>\n      <td>...</td>\n      <td>0</td>\n      <td>0</td>\n      <td>0</td>\n      <td>0</td>\n      <td>0</td>\n      <td>0.0</td>\n      <td>0.0</td>\n      <td>1</td>\n      <td>1</td>\n      <td>11.0</td>\n    </tr>\n    <tr>\n      <th>22</th>\n      <td>28/08/10</td>\n      <td>Chelsea</td>\n      <td>Stoke</td>\n      <td>2.0</td>\n      <td>0.0</td>\n      <td>H</td>\n      <td>6.0</td>\n      <td>3.0</td>\n      <td>6.0</td>\n      <td>3.0</td>\n      <td>...</td>\n      <td>0</td>\n      <td>0</td>\n      <td>0</td>\n      <td>0</td>\n      <td>0</td>\n      <td>0.0</td>\n      <td>0.0</td>\n      <td>6</td>\n      <td>6</td>\n      <td>-11.0</td>\n    </tr>\n    <tr>\n      <th>23</th>\n      <td>28/08/10</td>\n      <td>Man United</td>\n      <td>West Ham</td>\n      <td>3.0</td>\n      <td>0.0</td>\n      <td>H</td>\n      <td>3.0</td>\n      <td>4.0</td>\n      <td>3.0</td>\n      <td>4.0</td>\n      <td>...</td>\n      <td>0</td>\n      <td>0</td>\n      <td>0</td>\n      <td>0</td>\n      <td>0</td>\n      <td>0.0</td>\n      <td>0.0</td>\n      <td>4</td>\n      <td>4</td>\n      <td>-19.0</td>\n    </tr>\n    <tr>\n      <th>24</th>\n      <td>28/08/10</td>\n      <td>Tottenham</td>\n      <td>Wigan</td>\n      <td>0.0</td>\n      <td>1.0</td>\n      <td>A</td>\n      <td>0.0</td>\n      <td>4.0</td>\n      <td>0.0</td>\n      <td>4.0</td>\n      <td>...</td>\n      <td>0</td>\n      <td>0</td>\n      <td>0</td>\n      <td>0</td>\n      <td>0</td>\n      <td>0.0</td>\n      <td>0.0</td>\n      <td>4</td>\n      <td>4</td>\n      <td>-11.0</td>\n    </tr>\n    <tr>\n      <th>25</th>\n      <td>28/08/10</td>\n      <td>Wolves</td>\n      <td>Newcastle</td>\n      <td>1.0</td>\n      <td>1.0</td>\n      <td>D</td>\n      <td>3.0</td>\n      <td>6.0</td>\n      <td>3.0</td>\n      <td>6.0</td>\n      <td>...</td>\n      <td>0</td>\n      <td>0</td>\n      <td>0</td>\n      <td>0</td>\n      <td>0</td>\n      <td>0.0</td>\n      <td>0.0</td>\n      <td>1</td>\n      <td>1</td>\n      <td>5.0</td>\n    </tr>\n    <tr>\n      <th>26</th>\n      <td>29/08/10</td>\n      <td>Aston Villa</td>\n      <td>Everton</td>\n      <td>1.0</td>\n      <td>0.0</td>\n      <td>H</td>\n      <td>3.0</td>\n      <td>2.0</td>\n      <td>3.0</td>\n      <td>2.0</td>\n      <td>...</td>\n      <td>0</td>\n      <td>0</td>\n      <td>0</td>\n      <td>0</td>\n      <td>0</td>\n      <td>0.0</td>\n      <td>0.0</td>\n      <td>2</td>\n      <td>2</td>\n      <td>2.0</td>\n    </tr>\n    <tr>\n      <th>27</th>\n      <td>29/08/10</td>\n      <td>Bolton</td>\n      <td>Birmingham</td>\n      <td>2.0</td>\n      <td>2.0</td>\n      <td>D</td>\n      <td>0.0</td>\n      <td>3.0</td>\n      <td>0.0</td>\n      <td>3.0</td>\n      <td>...</td>\n      <td>0</td>\n      <td>0</td>\n      <td>0</td>\n      <td>0</td>\n      <td>0</td>\n      <td>0.0</td>\n      <td>0.0</td>\n      <td>0</td>\n      <td>0</td>\n      <td>-4.0</td>\n    </tr>\n    <tr>\n      <th>28</th>\n      <td>29/08/10</td>\n      <td>Liverpool</td>\n      <td>West Brom</td>\n      <td>1.0</td>\n      <td>0.0</td>\n      <td>H</td>\n      <td>2.0</td>\n      <td>1.0</td>\n      <td>2.0</td>\n      <td>1.0</td>\n      <td>...</td>\n      <td>0</td>\n      <td>0</td>\n      <td>0</td>\n      <td>0</td>\n      <td>0</td>\n      <td>0.0</td>\n      <td>0.0</td>\n      <td>-2</td>\n      <td>-2</td>\n      <td>-5.0</td>\n    </tr>\n    <tr>\n      <th>29</th>\n      <td>29/08/10</td>\n      <td>Sunderland</td>\n      <td>Man City</td>\n      <td>1.0</td>\n      <td>0.0</td>\n      <td>H</td>\n      <td>4.0</td>\n      <td>3.0</td>\n      <td>4.0</td>\n      <td>3.0</td>\n      <td>...</td>\n      <td>0</td>\n      <td>0</td>\n      <td>0</td>\n      <td>0</td>\n      <td>0</td>\n      <td>0.0</td>\n      <td>0.0</td>\n      <td>-3</td>\n      <td>-3</td>\n      <td>7.0</td>\n    </tr>\n    <tr>\n      <th>30</th>\n      <td>11/09/10</td>\n      <td>Arsenal</td>\n      <td>Bolton</td>\n      <td>4.0</td>\n      <td>1.0</td>\n      <td>H</td>\n      <td>10.0</td>\n      <td>2.0</td>\n      <td>10.0</td>\n      <td>2.0</td>\n      <td>...</td>\n      <td>0</td>\n      <td>0</td>\n      <td>0</td>\n      <td>0</td>\n      <td>0</td>\n      <td>0.0</td>\n      <td>0.0</td>\n      <td>2</td>\n      <td>2</td>\n      <td>-10.0</td>\n    </tr>\n    <tr>\n      <th>31</th>\n      <td>11/09/10</td>\n      <td>Everton</td>\n      <td>Man United</td>\n      <td>3.0</td>\n      <td>3.0</td>\n      <td>D</td>\n      <td>5.0</td>\n      <td>6.0</td>\n      <td>5.0</td>\n      <td>6.0</td>\n      <td>...</td>\n      <td>0</td>\n      <td>0</td>\n      <td>0</td>\n      <td>0</td>\n      <td>0</td>\n      <td>0.0</td>\n      <td>0.0</td>\n      <td>-6</td>\n      <td>-6</td>\n      <td>6.0</td>\n    </tr>\n    <tr>\n      <th>32</th>\n      <td>11/09/10</td>\n      <td>Fulham</td>\n      <td>Wolves</td>\n      <td>2.0</td>\n      <td>1.0</td>\n      <td>H</td>\n      <td>6.0</td>\n      <td>4.0</td>\n      <td>6.0</td>\n      <td>4.0</td>\n      <td>...</td>\n      <td>0</td>\n      <td>0</td>\n      <td>0</td>\n      <td>0</td>\n      <td>0</td>\n      <td>0.0</td>\n      <td>0.0</td>\n      <td>-2</td>\n      <td>-2</td>\n      <td>-9.0</td>\n    </tr>\n    <tr>\n      <th>33</th>\n      <td>11/09/10</td>\n      <td>Man City</td>\n      <td>Blackburn</td>\n      <td>1.0</td>\n      <td>1.0</td>\n      <td>D</td>\n      <td>4.0</td>\n      <td>2.0</td>\n      <td>4.0</td>\n      <td>2.0</td>\n      <td>...</td>\n      <td>0</td>\n      <td>0</td>\n      <td>0</td>\n      <td>0</td>\n      <td>0</td>\n      <td>0.0</td>\n      <td>0.0</td>\n      <td>1</td>\n      <td>1</td>\n      <td>-12.0</td>\n    </tr>\n    <tr>\n      <th>34</th>\n      <td>11/09/10</td>\n      <td>Newcastle</td>\n      <td>Blackpool</td>\n      <td>0.0</td>\n      <td>2.0</td>\n      <td>A</td>\n      <td>6.0</td>\n      <td>5.0</td>\n      <td>6.0</td>\n      <td>5.0</td>\n      <td>...</td>\n      <td>0</td>\n      <td>0</td>\n      <td>0</td>\n      <td>0</td>\n      <td>0</td>\n      <td>0.0</td>\n      <td>0.0</td>\n      <td>0</td>\n      <td>0</td>\n      <td>-7.0</td>\n    </tr>\n    <tr>\n      <th>35</th>\n      <td>11/09/10</td>\n      <td>West Brom</td>\n      <td>Tottenham</td>\n      <td>1.0</td>\n      <td>1.0</td>\n      <td>D</td>\n      <td>2.0</td>\n      <td>0.0</td>\n      <td>2.0</td>\n      <td>0.0</td>\n      <td>...</td>\n      <td>0</td>\n      <td>0</td>\n      <td>0</td>\n      <td>0</td>\n      <td>0</td>\n      <td>0.0</td>\n      <td>0.0</td>\n      <td>-1</td>\n      <td>-1</td>\n      <td>6.0</td>\n    </tr>\n    <tr>\n      <th>36</th>\n      <td>11/09/10</td>\n      <td>West Ham</td>\n      <td>Chelsea</td>\n      <td>1.0</td>\n      <td>3.0</td>\n      <td>A</td>\n      <td>5.0</td>\n      <td>8.0</td>\n      <td>5.0</td>\n      <td>8.0</td>\n      <td>...</td>\n      <td>0</td>\n      <td>0</td>\n      <td>0</td>\n      <td>0</td>\n      <td>0</td>\n      <td>0.0</td>\n      <td>0.0</td>\n      <td>-9</td>\n      <td>-9</td>\n      <td>18.0</td>\n    </tr>\n    <tr>\n      <th>37</th>\n      <td>11/09/10</td>\n      <td>Wigan</td>\n      <td>Sunderland</td>\n      <td>1.0</td>\n      <td>1.0</td>\n      <td>D</td>\n      <td>4.0</td>\n      <td>5.0</td>\n      <td>4.0</td>\n      <td>5.0</td>\n      <td>...</td>\n      <td>0</td>\n      <td>0</td>\n      <td>0</td>\n      <td>0</td>\n      <td>0</td>\n      <td>0.0</td>\n      <td>0.0</td>\n      <td>-1</td>\n      <td>-1</td>\n      <td>6.0</td>\n    </tr>\n    <tr>\n      <th>38</th>\n      <td>12/09/10</td>\n      <td>Birmingham</td>\n      <td>Liverpool</td>\n      <td>0.0</td>\n      <td>0.0</td>\n      <td>D</td>\n      <td>3.0</td>\n      <td>3.0</td>\n      <td>3.0</td>\n      <td>3.0</td>\n      <td>...</td>\n      <td>0</td>\n      <td>0</td>\n      <td>0</td>\n      <td>0</td>\n      <td>0</td>\n      <td>0.0</td>\n      <td>0.0</td>\n      <td>1</td>\n      <td>1</td>\n      <td>12.0</td>\n    </tr>\n    <tr>\n      <th>39</th>\n      <td>13/09/10</td>\n      <td>Stoke</td>\n      <td>Aston Villa</td>\n      <td>2.0</td>\n      <td>1.0</td>\n      <td>H</td>\n      <td>5.0</td>\n      <td>4.0</td>\n      <td>5.0</td>\n      <td>4.0</td>\n      <td>...</td>\n      <td>0</td>\n      <td>0</td>\n      <td>0</td>\n      <td>0</td>\n      <td>0</td>\n      <td>0.0</td>\n      <td>0.0</td>\n      <td>-6</td>\n      <td>-6</td>\n      <td>4.0</td>\n    </tr>\n    <tr>\n      <th>40</th>\n      <td>18/09/10</td>\n      <td>Aston Villa</td>\n      <td>Bolton</td>\n      <td>1.0</td>\n      <td>1.0</td>\n      <td>D</td>\n      <td>4.0</td>\n      <td>4.0</td>\n      <td>4.0</td>\n      <td>4.0</td>\n      <td>...</td>\n      <td>0</td>\n      <td>0</td>\n      <td>0</td>\n      <td>0</td>\n      <td>0</td>\n      <td>0.0</td>\n      <td>0.0</td>\n      <td>1</td>\n      <td>1</td>\n      <td>-5.0</td>\n    </tr>\n    <tr>\n      <th>41</th>\n      <td>18/09/10</td>\n      <td>Blackburn</td>\n      <td>Fulham</td>\n      <td>1.0</td>\n      <td>1.0</td>\n      <td>D</td>\n      <td>4.0</td>\n      <td>7.0</td>\n      <td>4.0</td>\n      <td>7.0</td>\n      <td>...</td>\n      <td>0</td>\n      <td>0</td>\n      <td>0</td>\n      <td>0</td>\n      <td>0</td>\n      <td>0.0</td>\n      <td>0.0</td>\n      <td>-2</td>\n      <td>-2</td>\n      <td>7.0</td>\n    </tr>\n    <tr>\n      <th>42</th>\n      <td>18/09/10</td>\n      <td>Everton</td>\n      <td>Newcastle</td>\n      <td>0.0</td>\n      <td>1.0</td>\n      <td>A</td>\n      <td>8.0</td>\n      <td>8.0</td>\n      <td>8.0</td>\n      <td>8.0</td>\n      <td>...</td>\n      <td>0</td>\n      <td>0</td>\n      <td>0</td>\n      <td>0</td>\n      <td>0</td>\n      <td>0.0</td>\n      <td>0.0</td>\n      <td>-2</td>\n      <td>-2</td>\n      <td>-5.0</td>\n    </tr>\n    <tr>\n      <th>43</th>\n      <td>18/09/10</td>\n      <td>Stoke</td>\n      <td>West Ham</td>\n      <td>1.0</td>\n      <td>1.0</td>\n      <td>D</td>\n      <td>6.0</td>\n      <td>8.0</td>\n      <td>6.0</td>\n      <td>8.0</td>\n      <td>...</td>\n      <td>0</td>\n      <td>0</td>\n      <td>0</td>\n      <td>0</td>\n      <td>0</td>\n      <td>0.0</td>\n      <td>0.0</td>\n      <td>3</td>\n      <td>3</td>\n      <td>-7.0</td>\n    </tr>\n    <tr>\n      <th>44</th>\n      <td>18/09/10</td>\n      <td>Sunderland</td>\n      <td>Arsenal</td>\n      <td>1.0</td>\n      <td>1.0</td>\n      <td>D</td>\n      <td>5.0</td>\n      <td>11.0</td>\n      <td>5.0</td>\n      <td>11.0</td>\n      <td>...</td>\n      <td>0</td>\n      <td>0</td>\n      <td>0</td>\n      <td>0</td>\n      <td>0</td>\n      <td>0.0</td>\n      <td>0.0</td>\n      <td>-5</td>\n      <td>-5</td>\n      <td>6.0</td>\n    </tr>\n    <tr>\n      <th>45</th>\n      <td>18/09/10</td>\n      <td>Tottenham</td>\n      <td>Wolves</td>\n      <td>3.0</td>\n      <td>1.0</td>\n      <td>H</td>\n      <td>1.0</td>\n      <td>5.0</td>\n      <td>1.0</td>\n      <td>5.0</td>\n      <td>...</td>\n      <td>0</td>\n      <td>0</td>\n      <td>0</td>\n      <td>0</td>\n      <td>0</td>\n      <td>0.0</td>\n      <td>0.0</td>\n      <td>0</td>\n      <td>0</td>\n      <td>-12.0</td>\n    </tr>\n    <tr>\n      <th>46</th>\n      <td>18/09/10</td>\n      <td>West Brom</td>\n      <td>Birmingham</td>\n      <td>3.0</td>\n      <td>1.0</td>\n      <td>H</td>\n      <td>3.0</td>\n      <td>3.0</td>\n      <td>3.0</td>\n      <td>3.0</td>\n      <td>...</td>\n      <td>0</td>\n      <td>0</td>\n      <td>0</td>\n      <td>0</td>\n      <td>0</td>\n      <td>0.0</td>\n      <td>0.0</td>\n      <td>-2</td>\n      <td>-2</td>\n      <td>-7.0</td>\n    </tr>\n    <tr>\n      <th>47</th>\n      <td>19/09/10</td>\n      <td>Chelsea</td>\n      <td>Blackpool</td>\n      <td>4.0</td>\n      <td>0.0</td>\n      <td>H</td>\n      <td>8.0</td>\n      <td>7.0</td>\n      <td>8.0</td>\n      <td>7.0</td>\n      <td>...</td>\n      <td>0</td>\n      <td>0</td>\n      <td>0</td>\n      <td>0</td>\n      <td>0</td>\n      <td>0.0</td>\n      <td>0.0</td>\n      <td>5</td>\n      <td>5</td>\n      <td>-17.0</td>\n    </tr>\n    <tr>\n      <th>48</th>\n      <td>19/09/10</td>\n      <td>Man United</td>\n      <td>Liverpool</td>\n      <td>3.0</td>\n      <td>2.0</td>\n      <td>H</td>\n      <td>6.0</td>\n      <td>3.0</td>\n      <td>6.0</td>\n      <td>3.0</td>\n      <td>...</td>\n      <td>0</td>\n      <td>0</td>\n      <td>0</td>\n      <td>0</td>\n      <td>0</td>\n      <td>0.0</td>\n      <td>0.0</td>\n      <td>3</td>\n      <td>3</td>\n      <td>-5.0</td>\n    </tr>\n    <tr>\n      <th>49</th>\n      <td>19/09/10</td>\n      <td>Wigan</td>\n      <td>Man City</td>\n      <td>0.0</td>\n      <td>2.0</td>\n      <td>A</td>\n      <td>10.0</td>\n      <td>5.0</td>\n      <td>10.0</td>\n      <td>5.0</td>\n      <td>...</td>\n      <td>0</td>\n      <td>0</td>\n      <td>0</td>\n      <td>0</td>\n      <td>0</td>\n      <td>0.0</td>\n      <td>0.0</td>\n      <td>-1</td>\n      <td>-1</td>\n      <td>13.0</td>\n    </tr>\n  </tbody>\n</table>\n<p>50 rows × 42 columns</p>\n</div>"
     },
     "metadata": {},
     "execution_count": 43
    }
   ],
   "source": [
    "playing_stat.head(50)"
   ]
  },
  {
   "cell_type": "code",
   "execution_count": 44,
   "metadata": {},
   "outputs": [],
   "source": [
    "def only_hw(string):\n",
    "    if string == 'H':\n",
    "        return 'H'\n",
    "    else:\n",
    "        return 'NH'\n",
    "    \n",
    "playing_stat['FTR'] = playing_stat.FTR.apply(only_hw)"
   ]
  },
  {
   "cell_type": "code",
   "execution_count": 45,
   "metadata": {},
   "outputs": [
    {
     "output_type": "execute_result",
     "data": {
      "text/plain": "  FTR  HTGS  ATGS  HTGC  ATGC  HTP  ATP HM1 HM2 HM3  ... HTLossStreak5  \\\n0   H   0.0   0.0   0.0   0.0    0    0   M   M   M  ...             0   \n1   H   0.0   0.0   0.0   0.0    0    0   M   M   M  ...             0   \n2  NH   0.0   0.0   0.0   0.0    0    0   M   M   M  ...             0   \n3   H   0.0   0.0   0.0   0.0    0    0   M   M   M  ...             0   \n4  NH   0.0   0.0   0.0   0.0    0    0   M   M   M  ...             0   \n\n  ATWinStreak3 ATWinStreak5 ATLossStreak3 ATLossStreak5 HTGD ATGD  DiffPts  \\\n0            0            0             0             0  0.0  0.0        0   \n1            0            0             0             0  0.0  0.0        0   \n2            0            0             0             0  0.0  0.0        0   \n3            0            0             0             0  0.0  0.0        0   \n4            0            0             0             0  0.0  0.0        0   \n\n   DiffFormPts  DiffLP  \n0            0   -11.0  \n1            0     8.0  \n2            0     6.0  \n3            0    -9.0  \n4            0    -8.0  \n\n[5 rows x 31 columns]",
      "text/html": "<div>\n<style scoped>\n    .dataframe tbody tr th:only-of-type {\n        vertical-align: middle;\n    }\n\n    .dataframe tbody tr th {\n        vertical-align: top;\n    }\n\n    .dataframe thead th {\n        text-align: right;\n    }\n</style>\n<table border=\"1\" class=\"dataframe\">\n  <thead>\n    <tr style=\"text-align: right;\">\n      <th></th>\n      <th>FTR</th>\n      <th>HTGS</th>\n      <th>ATGS</th>\n      <th>HTGC</th>\n      <th>ATGC</th>\n      <th>HTP</th>\n      <th>ATP</th>\n      <th>HM1</th>\n      <th>HM2</th>\n      <th>HM3</th>\n      <th>...</th>\n      <th>HTLossStreak5</th>\n      <th>ATWinStreak3</th>\n      <th>ATWinStreak5</th>\n      <th>ATLossStreak3</th>\n      <th>ATLossStreak5</th>\n      <th>HTGD</th>\n      <th>ATGD</th>\n      <th>DiffPts</th>\n      <th>DiffFormPts</th>\n      <th>DiffLP</th>\n    </tr>\n  </thead>\n  <tbody>\n    <tr>\n      <th>0</th>\n      <td>H</td>\n      <td>0.0</td>\n      <td>0.0</td>\n      <td>0.0</td>\n      <td>0.0</td>\n      <td>0</td>\n      <td>0</td>\n      <td>M</td>\n      <td>M</td>\n      <td>M</td>\n      <td>...</td>\n      <td>0</td>\n      <td>0</td>\n      <td>0</td>\n      <td>0</td>\n      <td>0</td>\n      <td>0.0</td>\n      <td>0.0</td>\n      <td>0</td>\n      <td>0</td>\n      <td>-11.0</td>\n    </tr>\n    <tr>\n      <th>1</th>\n      <td>H</td>\n      <td>0.0</td>\n      <td>0.0</td>\n      <td>0.0</td>\n      <td>0.0</td>\n      <td>0</td>\n      <td>0</td>\n      <td>M</td>\n      <td>M</td>\n      <td>M</td>\n      <td>...</td>\n      <td>0</td>\n      <td>0</td>\n      <td>0</td>\n      <td>0</td>\n      <td>0</td>\n      <td>0.0</td>\n      <td>0.0</td>\n      <td>0</td>\n      <td>0</td>\n      <td>8.0</td>\n    </tr>\n    <tr>\n      <th>2</th>\n      <td>NH</td>\n      <td>0.0</td>\n      <td>0.0</td>\n      <td>0.0</td>\n      <td>0.0</td>\n      <td>0</td>\n      <td>0</td>\n      <td>M</td>\n      <td>M</td>\n      <td>M</td>\n      <td>...</td>\n      <td>0</td>\n      <td>0</td>\n      <td>0</td>\n      <td>0</td>\n      <td>0</td>\n      <td>0.0</td>\n      <td>0.0</td>\n      <td>0</td>\n      <td>0</td>\n      <td>6.0</td>\n    </tr>\n    <tr>\n      <th>3</th>\n      <td>H</td>\n      <td>0.0</td>\n      <td>0.0</td>\n      <td>0.0</td>\n      <td>0.0</td>\n      <td>0</td>\n      <td>0</td>\n      <td>M</td>\n      <td>M</td>\n      <td>M</td>\n      <td>...</td>\n      <td>0</td>\n      <td>0</td>\n      <td>0</td>\n      <td>0</td>\n      <td>0</td>\n      <td>0.0</td>\n      <td>0.0</td>\n      <td>0</td>\n      <td>0</td>\n      <td>-9.0</td>\n    </tr>\n    <tr>\n      <th>4</th>\n      <td>NH</td>\n      <td>0.0</td>\n      <td>0.0</td>\n      <td>0.0</td>\n      <td>0.0</td>\n      <td>0</td>\n      <td>0</td>\n      <td>M</td>\n      <td>M</td>\n      <td>M</td>\n      <td>...</td>\n      <td>0</td>\n      <td>0</td>\n      <td>0</td>\n      <td>0</td>\n      <td>0</td>\n      <td>0.0</td>\n      <td>0.0</td>\n      <td>0</td>\n      <td>0</td>\n      <td>-8.0</td>\n    </tr>\n  </tbody>\n</table>\n<p>5 rows × 31 columns</p>\n</div>"
     },
     "metadata": {},
     "execution_count": 45
    }
   ],
   "source": [
    "playing_stat=playing_stat.drop([\"Date\",\"HomeTeam\",\"AwayTeam\",\"HomeTeamLP\",\"AwayTeamLP\",\"HTFormPts\",\"ATFormPts\", \"FTHG\",\"FTAG\",\"HTFormPtsStr\",\"ATFormPtsStr\"],axis=1)\n",
    "playing_stat.head()"
   ]
  },
  {
   "cell_type": "code",
   "execution_count": 46,
   "metadata": {},
   "outputs": [
    {
     "output_type": "execute_result",
     "data": {
      "text/plain": "Index(['FTR', 'HTGS', 'ATGS', 'HTGC', 'ATGC', 'HTP', 'ATP', 'HM1', 'HM2',\n       'HM3', 'HM4', 'HM5', 'AM1', 'AM2', 'AM3', 'AM4', 'AM5', 'MW',\n       'HTWinStreak3', 'HTWinStreak5', 'HTLossStreak3', 'HTLossStreak5',\n       'ATWinStreak3', 'ATWinStreak5', 'ATLossStreak3', 'ATLossStreak5',\n       'HTGD', 'ATGD', 'DiffPts', 'DiffFormPts', 'DiffLP'],\n      dtype='object')"
     },
     "metadata": {},
     "execution_count": 46
    }
   ],
   "source": [
    "playing_stat.keys()"
   ]
  },
  {
   "cell_type": "code",
   "execution_count": 47,
   "metadata": {},
   "outputs": [],
   "source": [
    "cols = ['HTGD','ATGD','DiffPts','DiffFormPts','HTP','ATP']"
   ]
  },
  {
   "cell_type": "code",
   "execution_count": 48,
   "metadata": {},
   "outputs": [],
   "source": [
    "playing_stat.MW = playing_stat.MW.astype(float)\n",
    "\n",
    "for col in cols:\n",
    "    playing_stat[col] = playing_stat[col] / playing_stat.MW"
   ]
  },
  {
   "cell_type": "code",
   "execution_count": 49,
   "metadata": {},
   "outputs": [],
   "source": [
    "# playing_stat.HTGS=(playing_stat.HTGS)/\n",
    "playing_stat.HTGS=playing_stat.HTGS/playing_stat.HTGS.max()"
   ]
  },
  {
   "cell_type": "code",
   "execution_count": 50,
   "metadata": {},
   "outputs": [
    {
     "output_type": "execute_result",
     "data": {
      "text/plain": "     FTR      HTGS      ATGS      HTGC      ATGC       HTP       ATP HM1 HM2  \\\n0      H  0.000000  0.000000  0.000000  0.000000  0.000000  0.000000   M   M   \n1      H  0.000000  0.000000  0.000000  0.000000  0.000000  0.000000   M   M   \n2     NH  0.000000  0.000000  0.000000  0.000000  0.000000  0.000000   M   M   \n3      H  0.000000  0.000000  0.000000  0.000000  0.000000  0.000000   M   M   \n4     NH  0.000000  0.000000  0.000000  0.000000  0.000000  0.000000   M   M   \n...   ..       ...       ...       ...       ...       ...       ...  ..  ..   \n3415   H  0.855263  0.662162  0.855263  0.662162  0.078947  0.078947   W   W   \n3416  NH  0.736842  0.756757  0.736842  0.756757  0.026316  0.000000   D   D   \n3417  NH  0.736842  0.540541  0.736842  0.540541  0.000000  0.026316   L   D   \n3418  NH  0.631579  0.689189  0.631579  0.689189  0.000000  0.078947   L   L   \n3419  NH  0.657895  0.797297  0.657895  0.797297  0.000000  0.078947   L   L   \n\n     HM3  ... HTLossStreak5 ATWinStreak3 ATWinStreak5 ATLossStreak3  \\\n0      M  ...             0            0            0             0   \n1      M  ...             0            0            0             0   \n2      M  ...             0            0            0             0   \n3      M  ...             0            0            0             0   \n4      M  ...             0            0            0             0   \n...   ..  ...           ...          ...          ...           ...   \n3415   W  ...             0            0            0             0   \n3416   L  ...             0            0            0             0   \n3417   D  ...             0            0            0             1   \n3418   W  ...             0            0            0             0   \n3419   D  ...             0            0            0             0   \n\n     ATLossStreak5 HTGD ATGD   DiffPts  DiffFormPts  DiffLP  \n0                0  0.0  0.0  0.000000     0.000000   -11.0  \n1                0  0.0  0.0  0.000000     0.000000     8.0  \n2                0  0.0  0.0  0.000000     0.000000     6.0  \n3                0  0.0  0.0  0.000000     0.000000    -9.0  \n4                0  0.0  0.0  0.000000     0.000000    -8.0  \n...            ...  ...  ...       ...          ...     ...  \n3415             0  0.0  0.0  0.000000     0.131579    -5.0  \n3416             0  0.0  0.0  0.026316     0.052632   -12.0  \n3417             0  0.0  0.0 -0.026316     0.105263    -4.0  \n3418             0  0.0  0.0 -0.078947    -0.105263    -4.0  \n3419             0  0.0  0.0 -0.078947    -0.078947     1.0  \n\n[3420 rows x 31 columns]",
      "text/html": "<div>\n<style scoped>\n    .dataframe tbody tr th:only-of-type {\n        vertical-align: middle;\n    }\n\n    .dataframe tbody tr th {\n        vertical-align: top;\n    }\n\n    .dataframe thead th {\n        text-align: right;\n    }\n</style>\n<table border=\"1\" class=\"dataframe\">\n  <thead>\n    <tr style=\"text-align: right;\">\n      <th></th>\n      <th>FTR</th>\n      <th>HTGS</th>\n      <th>ATGS</th>\n      <th>HTGC</th>\n      <th>ATGC</th>\n      <th>HTP</th>\n      <th>ATP</th>\n      <th>HM1</th>\n      <th>HM2</th>\n      <th>HM3</th>\n      <th>...</th>\n      <th>HTLossStreak5</th>\n      <th>ATWinStreak3</th>\n      <th>ATWinStreak5</th>\n      <th>ATLossStreak3</th>\n      <th>ATLossStreak5</th>\n      <th>HTGD</th>\n      <th>ATGD</th>\n      <th>DiffPts</th>\n      <th>DiffFormPts</th>\n      <th>DiffLP</th>\n    </tr>\n  </thead>\n  <tbody>\n    <tr>\n      <th>0</th>\n      <td>H</td>\n      <td>0.000000</td>\n      <td>0.000000</td>\n      <td>0.000000</td>\n      <td>0.000000</td>\n      <td>0.000000</td>\n      <td>0.000000</td>\n      <td>M</td>\n      <td>M</td>\n      <td>M</td>\n      <td>...</td>\n      <td>0</td>\n      <td>0</td>\n      <td>0</td>\n      <td>0</td>\n      <td>0</td>\n      <td>0.0</td>\n      <td>0.0</td>\n      <td>0.000000</td>\n      <td>0.000000</td>\n      <td>-11.0</td>\n    </tr>\n    <tr>\n      <th>1</th>\n      <td>H</td>\n      <td>0.000000</td>\n      <td>0.000000</td>\n      <td>0.000000</td>\n      <td>0.000000</td>\n      <td>0.000000</td>\n      <td>0.000000</td>\n      <td>M</td>\n      <td>M</td>\n      <td>M</td>\n      <td>...</td>\n      <td>0</td>\n      <td>0</td>\n      <td>0</td>\n      <td>0</td>\n      <td>0</td>\n      <td>0.0</td>\n      <td>0.0</td>\n      <td>0.000000</td>\n      <td>0.000000</td>\n      <td>8.0</td>\n    </tr>\n    <tr>\n      <th>2</th>\n      <td>NH</td>\n      <td>0.000000</td>\n      <td>0.000000</td>\n      <td>0.000000</td>\n      <td>0.000000</td>\n      <td>0.000000</td>\n      <td>0.000000</td>\n      <td>M</td>\n      <td>M</td>\n      <td>M</td>\n      <td>...</td>\n      <td>0</td>\n      <td>0</td>\n      <td>0</td>\n      <td>0</td>\n      <td>0</td>\n      <td>0.0</td>\n      <td>0.0</td>\n      <td>0.000000</td>\n      <td>0.000000</td>\n      <td>6.0</td>\n    </tr>\n    <tr>\n      <th>3</th>\n      <td>H</td>\n      <td>0.000000</td>\n      <td>0.000000</td>\n      <td>0.000000</td>\n      <td>0.000000</td>\n      <td>0.000000</td>\n      <td>0.000000</td>\n      <td>M</td>\n      <td>M</td>\n      <td>M</td>\n      <td>...</td>\n      <td>0</td>\n      <td>0</td>\n      <td>0</td>\n      <td>0</td>\n      <td>0</td>\n      <td>0.0</td>\n      <td>0.0</td>\n      <td>0.000000</td>\n      <td>0.000000</td>\n      <td>-9.0</td>\n    </tr>\n    <tr>\n      <th>4</th>\n      <td>NH</td>\n      <td>0.000000</td>\n      <td>0.000000</td>\n      <td>0.000000</td>\n      <td>0.000000</td>\n      <td>0.000000</td>\n      <td>0.000000</td>\n      <td>M</td>\n      <td>M</td>\n      <td>M</td>\n      <td>...</td>\n      <td>0</td>\n      <td>0</td>\n      <td>0</td>\n      <td>0</td>\n      <td>0</td>\n      <td>0.0</td>\n      <td>0.0</td>\n      <td>0.000000</td>\n      <td>0.000000</td>\n      <td>-8.0</td>\n    </tr>\n    <tr>\n      <th>...</th>\n      <td>...</td>\n      <td>...</td>\n      <td>...</td>\n      <td>...</td>\n      <td>...</td>\n      <td>...</td>\n      <td>...</td>\n      <td>...</td>\n      <td>...</td>\n      <td>...</td>\n      <td>...</td>\n      <td>...</td>\n      <td>...</td>\n      <td>...</td>\n      <td>...</td>\n      <td>...</td>\n      <td>...</td>\n      <td>...</td>\n      <td>...</td>\n      <td>...</td>\n      <td>...</td>\n    </tr>\n    <tr>\n      <th>3415</th>\n      <td>H</td>\n      <td>0.855263</td>\n      <td>0.662162</td>\n      <td>0.855263</td>\n      <td>0.662162</td>\n      <td>0.078947</td>\n      <td>0.078947</td>\n      <td>W</td>\n      <td>W</td>\n      <td>W</td>\n      <td>...</td>\n      <td>0</td>\n      <td>0</td>\n      <td>0</td>\n      <td>0</td>\n      <td>0</td>\n      <td>0.0</td>\n      <td>0.0</td>\n      <td>0.000000</td>\n      <td>0.131579</td>\n      <td>-5.0</td>\n    </tr>\n    <tr>\n      <th>3416</th>\n      <td>NH</td>\n      <td>0.736842</td>\n      <td>0.756757</td>\n      <td>0.736842</td>\n      <td>0.756757</td>\n      <td>0.026316</td>\n      <td>0.000000</td>\n      <td>D</td>\n      <td>D</td>\n      <td>L</td>\n      <td>...</td>\n      <td>0</td>\n      <td>0</td>\n      <td>0</td>\n      <td>0</td>\n      <td>0</td>\n      <td>0.0</td>\n      <td>0.0</td>\n      <td>0.026316</td>\n      <td>0.052632</td>\n      <td>-12.0</td>\n    </tr>\n    <tr>\n      <th>3417</th>\n      <td>NH</td>\n      <td>0.736842</td>\n      <td>0.540541</td>\n      <td>0.736842</td>\n      <td>0.540541</td>\n      <td>0.000000</td>\n      <td>0.026316</td>\n      <td>L</td>\n      <td>D</td>\n      <td>D</td>\n      <td>...</td>\n      <td>0</td>\n      <td>0</td>\n      <td>0</td>\n      <td>1</td>\n      <td>0</td>\n      <td>0.0</td>\n      <td>0.0</td>\n      <td>-0.026316</td>\n      <td>0.105263</td>\n      <td>-4.0</td>\n    </tr>\n    <tr>\n      <th>3418</th>\n      <td>NH</td>\n      <td>0.631579</td>\n      <td>0.689189</td>\n      <td>0.631579</td>\n      <td>0.689189</td>\n      <td>0.000000</td>\n      <td>0.078947</td>\n      <td>L</td>\n      <td>L</td>\n      <td>W</td>\n      <td>...</td>\n      <td>0</td>\n      <td>0</td>\n      <td>0</td>\n      <td>0</td>\n      <td>0</td>\n      <td>0.0</td>\n      <td>0.0</td>\n      <td>-0.078947</td>\n      <td>-0.105263</td>\n      <td>-4.0</td>\n    </tr>\n    <tr>\n      <th>3419</th>\n      <td>NH</td>\n      <td>0.657895</td>\n      <td>0.797297</td>\n      <td>0.657895</td>\n      <td>0.797297</td>\n      <td>0.000000</td>\n      <td>0.078947</td>\n      <td>L</td>\n      <td>L</td>\n      <td>D</td>\n      <td>...</td>\n      <td>0</td>\n      <td>0</td>\n      <td>0</td>\n      <td>0</td>\n      <td>0</td>\n      <td>0.0</td>\n      <td>0.0</td>\n      <td>-0.078947</td>\n      <td>-0.078947</td>\n      <td>1.0</td>\n    </tr>\n  </tbody>\n</table>\n<p>3420 rows × 31 columns</p>\n</div>"
     },
     "metadata": {},
     "execution_count": 50
    }
   ],
   "source": [
    "playing_stat.ATGS=playing_stat.ATGS/playing_stat.ATGS.max()\n",
    "playing_stat.HTGC=playing_stat.HTGC/playing_stat.HTGC.max()\n",
    "playing_stat.ATGC=playing_stat.ATGC/playing_stat.ATGC.max()\n",
    "playing_stat"
   ]
  },
  {
   "cell_type": "code",
   "execution_count": 51,
   "metadata": {},
   "outputs": [
    {
     "output_type": "stream",
     "name": "stdout",
     "text": "1.0\n1.0\n"
    }
   ],
   "source": [
    "print(playing_stat.ATGC.max())\n",
    "print(playing_stat.HTGC.max())"
   ]
  },
  {
   "cell_type": "code",
   "execution_count": 52,
   "metadata": {},
   "outputs": [],
   "source": [
    "playing_stat=playing_stat.drop([\"MW\"],axis=1)"
   ]
  },
  {
   "cell_type": "code",
   "execution_count": 53,
   "metadata": {},
   "outputs": [
    {
     "output_type": "execute_result",
     "data": {
      "text/plain": "(3420, 30)"
     },
     "metadata": {},
     "execution_count": 53
    }
   ],
   "source": [
    "playing_stat.shape"
   ]
  },
  {
   "cell_type": "code",
   "execution_count": 54,
   "metadata": {},
   "outputs": [],
   "source": [
    "#テストデータ\n",
    "playing_stat_test = playing_stat[2620:]"
   ]
  },
  {
   "cell_type": "code",
   "execution_count": 55,
   "metadata": {},
   "outputs": [
    {
     "output_type": "execute_result",
     "data": {
      "text/plain": "     FTR      HTGS      ATGS      HTGC      ATGC       HTP       ATP HM1 HM2  \\\n2620  NH  0.657895  0.756757  0.657895  0.756757  0.000000  0.085714   L   W   \n2621  NH  0.671053  0.662162  0.671053  0.662162  0.028571  0.028571   D   W   \n2622   H  0.789474  0.554054  0.789474  0.554054  0.028571  0.000000   D   W   \n2623   H  0.592105  0.459459  0.592105  0.459459  0.028571  0.000000   D   W   \n2624  NH  0.460526  0.500000  0.460526  0.500000  0.028571  0.085714   D   W   \n...   ..       ...       ...       ...       ...       ...       ...  ..  ..   \n3415   H  0.855263  0.662162  0.855263  0.662162  0.078947  0.078947   W   W   \n3416  NH  0.736842  0.756757  0.736842  0.756757  0.026316  0.000000   D   D   \n3417  NH  0.736842  0.540541  0.736842  0.540541  0.000000  0.026316   L   D   \n3418  NH  0.631579  0.689189  0.631579  0.689189  0.000000  0.078947   L   L   \n3419  NH  0.657895  0.797297  0.657895  0.797297  0.000000  0.078947   L   L   \n\n     HM3  ... HTLossStreak5 ATWinStreak3 ATWinStreak5 ATLossStreak3  \\\n2620   L  ...             0            0            0             0   \n2621   W  ...             0            0            0             0   \n2622   W  ...             0            0            0             0   \n2623   W  ...             0            0            0             0   \n2624   L  ...             0            0            0             0   \n...   ..  ...           ...          ...          ...           ...   \n3415   W  ...             0            0            0             0   \n3416   L  ...             0            0            0             0   \n3417   D  ...             0            0            0             1   \n3418   W  ...             0            0            0             0   \n3419   D  ...             0            0            0             0   \n\n     ATLossStreak5 HTGD ATGD   DiffPts  DiffFormPts  DiffLP  \n2620             0  0.0  0.0 -0.085714    -0.028571     8.0  \n2621             0  0.0  0.0  0.000000     0.171429   -14.0  \n2622             0  0.0  0.0  0.028571     0.171429   -10.0  \n2623             0  0.0  0.0  0.028571     0.171429    -3.0  \n2624             0  0.0  0.0 -0.057143    -0.142857    15.0  \n...            ...  ...  ...       ...          ...     ...  \n3415             0  0.0  0.0  0.000000     0.131579    -5.0  \n3416             0  0.0  0.0  0.026316     0.052632   -12.0  \n3417             0  0.0  0.0 -0.026316     0.105263    -4.0  \n3418             0  0.0  0.0 -0.078947    -0.105263    -4.0  \n3419             0  0.0  0.0 -0.078947    -0.078947     1.0  \n\n[800 rows x 30 columns]",
      "text/html": "<div>\n<style scoped>\n    .dataframe tbody tr th:only-of-type {\n        vertical-align: middle;\n    }\n\n    .dataframe tbody tr th {\n        vertical-align: top;\n    }\n\n    .dataframe thead th {\n        text-align: right;\n    }\n</style>\n<table border=\"1\" class=\"dataframe\">\n  <thead>\n    <tr style=\"text-align: right;\">\n      <th></th>\n      <th>FTR</th>\n      <th>HTGS</th>\n      <th>ATGS</th>\n      <th>HTGC</th>\n      <th>ATGC</th>\n      <th>HTP</th>\n      <th>ATP</th>\n      <th>HM1</th>\n      <th>HM2</th>\n      <th>HM3</th>\n      <th>...</th>\n      <th>HTLossStreak5</th>\n      <th>ATWinStreak3</th>\n      <th>ATWinStreak5</th>\n      <th>ATLossStreak3</th>\n      <th>ATLossStreak5</th>\n      <th>HTGD</th>\n      <th>ATGD</th>\n      <th>DiffPts</th>\n      <th>DiffFormPts</th>\n      <th>DiffLP</th>\n    </tr>\n  </thead>\n  <tbody>\n    <tr>\n      <th>2620</th>\n      <td>NH</td>\n      <td>0.657895</td>\n      <td>0.756757</td>\n      <td>0.657895</td>\n      <td>0.756757</td>\n      <td>0.000000</td>\n      <td>0.085714</td>\n      <td>L</td>\n      <td>W</td>\n      <td>L</td>\n      <td>...</td>\n      <td>0</td>\n      <td>0</td>\n      <td>0</td>\n      <td>0</td>\n      <td>0</td>\n      <td>0.0</td>\n      <td>0.0</td>\n      <td>-0.085714</td>\n      <td>-0.028571</td>\n      <td>8.0</td>\n    </tr>\n    <tr>\n      <th>2621</th>\n      <td>NH</td>\n      <td>0.671053</td>\n      <td>0.662162</td>\n      <td>0.671053</td>\n      <td>0.662162</td>\n      <td>0.028571</td>\n      <td>0.028571</td>\n      <td>D</td>\n      <td>W</td>\n      <td>W</td>\n      <td>...</td>\n      <td>0</td>\n      <td>0</td>\n      <td>0</td>\n      <td>0</td>\n      <td>0</td>\n      <td>0.0</td>\n      <td>0.0</td>\n      <td>0.000000</td>\n      <td>0.171429</td>\n      <td>-14.0</td>\n    </tr>\n    <tr>\n      <th>2622</th>\n      <td>H</td>\n      <td>0.789474</td>\n      <td>0.554054</td>\n      <td>0.789474</td>\n      <td>0.554054</td>\n      <td>0.028571</td>\n      <td>0.000000</td>\n      <td>D</td>\n      <td>W</td>\n      <td>W</td>\n      <td>...</td>\n      <td>0</td>\n      <td>0</td>\n      <td>0</td>\n      <td>0</td>\n      <td>0</td>\n      <td>0.0</td>\n      <td>0.0</td>\n      <td>0.028571</td>\n      <td>0.171429</td>\n      <td>-10.0</td>\n    </tr>\n    <tr>\n      <th>2623</th>\n      <td>H</td>\n      <td>0.592105</td>\n      <td>0.459459</td>\n      <td>0.592105</td>\n      <td>0.459459</td>\n      <td>0.028571</td>\n      <td>0.000000</td>\n      <td>D</td>\n      <td>W</td>\n      <td>W</td>\n      <td>...</td>\n      <td>0</td>\n      <td>0</td>\n      <td>0</td>\n      <td>0</td>\n      <td>0</td>\n      <td>0.0</td>\n      <td>0.0</td>\n      <td>0.028571</td>\n      <td>0.171429</td>\n      <td>-3.0</td>\n    </tr>\n    <tr>\n      <th>2624</th>\n      <td>NH</td>\n      <td>0.460526</td>\n      <td>0.500000</td>\n      <td>0.460526</td>\n      <td>0.500000</td>\n      <td>0.028571</td>\n      <td>0.085714</td>\n      <td>D</td>\n      <td>W</td>\n      <td>L</td>\n      <td>...</td>\n      <td>0</td>\n      <td>0</td>\n      <td>0</td>\n      <td>0</td>\n      <td>0</td>\n      <td>0.0</td>\n      <td>0.0</td>\n      <td>-0.057143</td>\n      <td>-0.142857</td>\n      <td>15.0</td>\n    </tr>\n    <tr>\n      <th>...</th>\n      <td>...</td>\n      <td>...</td>\n      <td>...</td>\n      <td>...</td>\n      <td>...</td>\n      <td>...</td>\n      <td>...</td>\n      <td>...</td>\n      <td>...</td>\n      <td>...</td>\n      <td>...</td>\n      <td>...</td>\n      <td>...</td>\n      <td>...</td>\n      <td>...</td>\n      <td>...</td>\n      <td>...</td>\n      <td>...</td>\n      <td>...</td>\n      <td>...</td>\n      <td>...</td>\n    </tr>\n    <tr>\n      <th>3415</th>\n      <td>H</td>\n      <td>0.855263</td>\n      <td>0.662162</td>\n      <td>0.855263</td>\n      <td>0.662162</td>\n      <td>0.078947</td>\n      <td>0.078947</td>\n      <td>W</td>\n      <td>W</td>\n      <td>W</td>\n      <td>...</td>\n      <td>0</td>\n      <td>0</td>\n      <td>0</td>\n      <td>0</td>\n      <td>0</td>\n      <td>0.0</td>\n      <td>0.0</td>\n      <td>0.000000</td>\n      <td>0.131579</td>\n      <td>-5.0</td>\n    </tr>\n    <tr>\n      <th>3416</th>\n      <td>NH</td>\n      <td>0.736842</td>\n      <td>0.756757</td>\n      <td>0.736842</td>\n      <td>0.756757</td>\n      <td>0.026316</td>\n      <td>0.000000</td>\n      <td>D</td>\n      <td>D</td>\n      <td>L</td>\n      <td>...</td>\n      <td>0</td>\n      <td>0</td>\n      <td>0</td>\n      <td>0</td>\n      <td>0</td>\n      <td>0.0</td>\n      <td>0.0</td>\n      <td>0.026316</td>\n      <td>0.052632</td>\n      <td>-12.0</td>\n    </tr>\n    <tr>\n      <th>3417</th>\n      <td>NH</td>\n      <td>0.736842</td>\n      <td>0.540541</td>\n      <td>0.736842</td>\n      <td>0.540541</td>\n      <td>0.000000</td>\n      <td>0.026316</td>\n      <td>L</td>\n      <td>D</td>\n      <td>D</td>\n      <td>...</td>\n      <td>0</td>\n      <td>0</td>\n      <td>0</td>\n      <td>1</td>\n      <td>0</td>\n      <td>0.0</td>\n      <td>0.0</td>\n      <td>-0.026316</td>\n      <td>0.105263</td>\n      <td>-4.0</td>\n    </tr>\n    <tr>\n      <th>3418</th>\n      <td>NH</td>\n      <td>0.631579</td>\n      <td>0.689189</td>\n      <td>0.631579</td>\n      <td>0.689189</td>\n      <td>0.000000</td>\n      <td>0.078947</td>\n      <td>L</td>\n      <td>L</td>\n      <td>W</td>\n      <td>...</td>\n      <td>0</td>\n      <td>0</td>\n      <td>0</td>\n      <td>0</td>\n      <td>0</td>\n      <td>0.0</td>\n      <td>0.0</td>\n      <td>-0.078947</td>\n      <td>-0.105263</td>\n      <td>-4.0</td>\n    </tr>\n    <tr>\n      <th>3419</th>\n      <td>NH</td>\n      <td>0.657895</td>\n      <td>0.797297</td>\n      <td>0.657895</td>\n      <td>0.797297</td>\n      <td>0.000000</td>\n      <td>0.078947</td>\n      <td>L</td>\n      <td>L</td>\n      <td>D</td>\n      <td>...</td>\n      <td>0</td>\n      <td>0</td>\n      <td>0</td>\n      <td>0</td>\n      <td>0</td>\n      <td>0.0</td>\n      <td>0.0</td>\n      <td>-0.078947</td>\n      <td>-0.078947</td>\n      <td>1.0</td>\n    </tr>\n  </tbody>\n</table>\n<p>800 rows × 30 columns</p>\n</div>"
     },
     "metadata": {},
     "execution_count": 55
    }
   ],
   "source": [
    "playing_stat_test"
   ]
  },
  {
   "cell_type": "code",
   "execution_count": 56,
   "metadata": {},
   "outputs": [],
   "source": [
    "playing_stat=playing_stat[:2620]"
   ]
  },
  {
   "cell_type": "code",
   "execution_count": 57,
   "metadata": {},
   "outputs": [
    {
     "output_type": "execute_result",
     "data": {
      "text/plain": "(2620, 30)"
     },
     "metadata": {},
     "execution_count": 57
    }
   ],
   "source": [
    "playing_stat.shape"
   ]
  },
  {
   "cell_type": "code",
   "execution_count": 58,
   "metadata": {},
   "outputs": [],
   "source": [
    "playing_stat.to_csv(\"./data/PremierLeague/final_dataset.csv\",index=None)\n",
    "playing_stat_test.to_csv(\"./data/PremierLeague/test.csv\",index=None)"
   ]
  },
  {
   "cell_type": "code",
   "execution_count": null,
   "metadata": {},
   "outputs": [],
   "source": []
  }
 ],
 "metadata": {
  "language_info": {
   "name": "python",
   "codemirror_mode": {
    "name": "ipython",
    "version": 3
   },
   "version": "3.7.6-final"
  },
  "orig_nbformat": 2,
  "file_extension": ".py",
  "mimetype": "text/x-python",
  "name": "python",
  "npconvert_exporter": "python",
  "pygments_lexer": "ipython3",
  "version": 3,
  "kernelspec": {
   "name": "python37664bitpy37condae1c09d002d174375bdfe176cbb07a596",
   "display_name": "Python 3.7.6 64-bit ('py37': conda)"
  }
 },
 "nbformat": 4,
 "nbformat_minor": 2
}